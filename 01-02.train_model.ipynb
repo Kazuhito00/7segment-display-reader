{
  "nbformat": 4,
  "nbformat_minor": 0,
  "metadata": {
    "accelerator": "GPU",
    "colab": {
      "name": "01-02.train_model.ipynb",
      "provenance": [],
      "collapsed_sections": []
    },
    "kernelspec": {
      "display_name": "Python 3",
      "name": "python3"
    }
  },
  "cells": [
    {
      "cell_type": "markdown",
      "metadata": {
        "id": "Y7Oh08yAhHwT"
      },
      "source": [
        "# XXXXXXXX"
      ]
    },
    {
      "cell_type": "code",
      "metadata": {
        "colab": {
          "base_uri": "https://localhost:8080/"
        },
        "id": "_OwRCliygZBI",
        "outputId": "dca5cb19-8beb-4a7c-fa10-73d9d4765665"
      },
      "source": [
        "!git clone https://github.com/Kazuhito00/7-segment-display-reader"
      ],
      "execution_count": 1,
      "outputs": [
        {
          "output_type": "stream",
          "text": [
            "Cloning into '7-segment-display-reader'...\n",
            "remote: Enumerating objects: 21857, done.\u001b[K\n",
            "remote: Counting objects: 100% (21857/21857), done.\u001b[K\n",
            "remote: Compressing objects: 100% (21844/21844), done.\u001b[K\n",
            "remote: Total 21857 (delta 13), reused 21852 (delta 12), pack-reused 0\u001b[K\n",
            "Receiving objects: 100% (21857/21857), 58.41 MiB | 24.56 MiB/s, done.\n",
            "Resolving deltas: 100% (13/13), done.\n",
            "Checking out files: 100% (41994/41994), done.\n"
          ],
          "name": "stdout"
        }
      ]
    },
    {
      "cell_type": "markdown",
      "metadata": {
        "id": "B6iLw5KChHAk"
      },
      "source": [
        "# XXXXXXXX"
      ]
    },
    {
      "cell_type": "code",
      "metadata": {
        "colab": {
          "base_uri": "https://localhost:8080/"
        },
        "id": "8hJhtoVbtXtc",
        "outputId": "f493e9c0-0537-4a1b-af9d-f1c0268f282e"
      },
      "source": [
        "!git clone https://github.com/Kazuhito00/7seg-image-generator.git"
      ],
      "execution_count": 2,
      "outputs": [
        {
          "output_type": "stream",
          "text": [
            "Cloning into '7seg-image-generator'...\n",
            "remote: Enumerating objects: 45, done.\u001b[K\n",
            "remote: Counting objects: 100% (45/45), done.\u001b[K\n",
            "remote: Compressing objects: 100% (36/36), done.\u001b[K\n",
            "remote: Total 45 (delta 21), reused 20 (delta 6), pack-reused 0\u001b[K\n",
            "Unpacking objects: 100% (45/45), done.\n"
          ],
          "name": "stdout"
        }
      ]
    },
    {
      "cell_type": "code",
      "metadata": {
        "colab": {
          "base_uri": "https://localhost:8080/"
        },
        "id": "UjwC9CxN2fwZ",
        "outputId": "14339cb8-b9ee-4ff2-de7d-12f5090f1c48"
      },
      "source": [
        "!python '7seg-image-generator/create_7segment_dataset_da(easy).py' \\\n",
        "    --erase_debug_window \\\n",
        "    --steps=4000 \\\n",
        "    --start_count=10000000"
      ],
      "execution_count": 3,
      "outputs": [
        {
          "output_type": "stream",
          "text": [
            "100% 4000/4000 [00:44<00:00, 90.65it/s]\n"
          ],
          "name": "stdout"
        }
      ]
    },
    {
      "cell_type": "markdown",
      "metadata": {
        "id": "A3-dkAwMia4v"
      },
      "source": [
        "# XXXXXXXX"
      ]
    },
    {
      "cell_type": "code",
      "metadata": {
        "id": "k0rX5nAe9hTO"
      },
      "source": [
        "%cp -rf './7-segment-display-reader/01.dataset/00' './dataset'\n",
        "%cp -rf './7-segment-display-reader/01.dataset/01' './dataset'\n",
        "%cp -rf './7-segment-display-reader/01.dataset/02' './dataset'\n",
        "%cp -rf './7-segment-display-reader/01.dataset/03' './dataset'\n",
        "%cp -rf './7-segment-display-reader/01.dataset/04' './dataset'\n",
        "%cp -rf './7-segment-display-reader/01.dataset/05' './dataset'\n",
        "%cp -rf './7-segment-display-reader/01.dataset/06' './dataset'\n",
        "%cp -rf './7-segment-display-reader/01.dataset/07' './dataset'\n",
        "%cp -rf './7-segment-display-reader/01.dataset/08' './dataset'\n",
        "%cp -rf './7-segment-display-reader/01.dataset/09' './dataset'\n",
        "%cp -rf './7-segment-display-reader/01.dataset/11' './dataset'"
      ],
      "execution_count": 4,
      "outputs": []
    },
    {
      "cell_type": "markdown",
      "metadata": {
        "id": "SJTAw24d3WvH"
      },
      "source": [
        "# XXXXXXXX"
      ]
    },
    {
      "cell_type": "code",
      "metadata": {
        "colab": {
          "base_uri": "https://localhost:8080/",
          "height": 286
        },
        "id": "5BQUP7Vx1GtC",
        "outputId": "eb834869-cef9-40e8-9852-5dfa20dc560c"
      },
      "source": [
        "import cv2\n",
        "import matplotlib.pyplot as plt\n",
        "\n",
        "test_image = cv2.imread('./dataset/00/00000000.jpg')\n",
        "test_image = cv2.resize(test_image, (96, 96))\n",
        "test_image = cv2.cvtColor(test_image, cv2.COLOR_BGR2RGB)\n",
        " \n",
        "plt.imshow(test_image)"
      ],
      "execution_count": 5,
      "outputs": [
        {
          "output_type": "execute_result",
          "data": {
            "text/plain": [
              "<matplotlib.image.AxesImage at 0x7f443c024290>"
            ]
          },
          "metadata": {
            "tags": []
          },
          "execution_count": 5
        },
        {
          "output_type": "display_data",
          "data": {
            "image/png": "[encoded data removed]",
            "text/plain": [
              "<Figure size 432x288 with 1 Axes>"
            ]
          },
          "metadata": {
            "tags": [],
            "needs_background": "light"
          }
        }
      ]
    },
    {
      "cell_type": "code",
      "metadata": {
        "id": "Jha2pIhn3Kum",
        "colab": {
          "base_uri": "https://localhost:8080/",
          "height": 286
        },
        "outputId": "abf5a374-d4b5-442e-e4d2-04adf32e8f55"
      },
      "source": [
        "import cv2\n",
        "import matplotlib.pyplot as plt\n",
        "\n",
        "test_image = cv2.imread('./dataset/00/00000000.jpg')\n",
        "test_image = cv2.resize(test_image, (96, 96))\n",
        "\n",
        "# グレースケール化\n",
        "test_image = cv2.cvtColor(test_image, cv2.COLOR_BGR2GRAY)\n",
        "\n",
        "# # ヒストグラム平坦化\n",
        "clahe = cv2.createCLAHE(clipLimit=2.0, tileGridSize=(8, 8))\n",
        "test_image = clahe.apply(test_image)\n",
        "\n",
        "# # ガウシアンブラー\n",
        "test_image = cv2.GaussianBlur(test_image, (3, 3), 0)\n",
        "\n",
        "# 2値化\n",
        "_, test_image = cv2.threshold(test_image, 0, 255, cv2.THRESH_BINARY + cv2.THRESH_OTSU)\n",
        "\n",
        "test_image = cv2.cvtColor(test_image, cv2.COLOR_GRAY2RGB)\n",
        " \n",
        "plt.imshow(test_image)"
      ],
      "execution_count": 6,
      "outputs": [
        {
          "output_type": "execute_result",
          "data": {
            "text/plain": [
              "<matplotlib.image.AxesImage at 0x7f442c6c9150>"
            ]
          },
          "metadata": {
            "tags": []
          },
          "execution_count": 6
        },
        {
          "output_type": "display_data",
          "data": {
            "image/png": "[encoded data removed]",
            "text/plain": [
              "<Figure size 432x288 with 1 Axes>"
            ]
          },
          "metadata": {
            "tags": [],
            "needs_background": "light"
          }
        }
      ]
    },
    {
      "cell_type": "code",
      "metadata": {
        "id": "jXu-uksG5sp9"
      },
      "source": [
        "import os\n",
        "\n",
        "dataset_directory = './dataset'\n",
        "dataset2_directory = './dataset2'\n",
        "\n",
        "# 変換後データ格納ディレクトリ作成　※「dataset_directory」と同様の構成\n",
        "for class_dir in os.listdir(dataset_directory):\n",
        "    os.makedirs(dataset2_directory + '/' + class_dir, exist_ok=True)"
      ],
      "execution_count": 7,
      "outputs": []
    },
    {
      "cell_type": "code",
      "metadata": {
        "colab": {
          "base_uri": "https://localhost:8080/"
        },
        "id": "STm7F3oU6ZjV",
        "outputId": "353020f7-6b75-460a-80af-fc49d738e1d7"
      },
      "source": [
        "from tqdm import tqdm\n",
        "\n",
        "for class_dir in tqdm(os.listdir(dataset_directory)):\n",
        "    for filename in os.listdir(dataset_directory + '/' + class_dir):\n",
        "        file_path = os.path.join(dataset_directory, class_dir, filename)\n",
        "        save_path = os.path.join(dataset2_directory, class_dir, filename)\n",
        "        \n",
        "        test_image = cv2.imread(file_path)\n",
        "        test_image = cv2.resize(test_image, (96, 96))\n",
        "\n",
        "        # グレースケール化\n",
        "        test_image = cv2.cvtColor(test_image, cv2.COLOR_BGR2GRAY)\n",
        "\n",
        "        # ヒストグラム平坦化\n",
        "        clahe = cv2.createCLAHE(clipLimit=2.0, tileGridSize=(8, 8))\n",
        "        test_image = clahe.apply(test_image)\n",
        "\n",
        "        # ガウシアンブラー\n",
        "        test_image = cv2.GaussianBlur(test_image, (3, 3), 0)\n",
        "\n",
        "        # 2値化\n",
        "        _, test_image = cv2.threshold(test_image, 0, 255, cv2.THRESH_BINARY + cv2.THRESH_OTSU)\n",
        "\n",
        "        # BGR形式へ戻す\n",
        "        test_image = cv2.cvtColor(test_image, cv2.COLOR_GRAY2BGR)\n",
        "        \n",
        "        # 保存\n",
        "        cv2.imwrite(save_path, test_image)"
      ],
      "execution_count": 8,
      "outputs": [
        {
          "output_type": "stream",
          "text": [
            "100%|██████████| 12/12 [01:00<00:00,  5.03s/it]\n"
          ],
          "name": "stderr"
        }
      ]
    },
    {
      "cell_type": "markdown",
      "metadata": {
        "id": "BUuk1DIvifE7"
      },
      "source": [
        "# XXXXXXXX"
      ]
    },
    {
      "cell_type": "code",
      "metadata": {
        "id": "tJo-iE4twmkr"
      },
      "source": [
        "import os\n",
        "\n",
        "dataset_directory = './dataset2'\n",
        "train_directory = './train'\n",
        "validation_directory = './validation'\n",
        "\n",
        "# 学習データ格納ディレクトリ作成　※「dataset_directory」と同様の構成\n",
        "for dir_path in os.listdir(dataset_directory):\n",
        "    os.makedirs(train_directory + '/' + dir_path, exist_ok=True)\n",
        "# 検証データ格納ディレクトリ作成　※「dataset_directory」と同様の構成\n",
        "for dir_path in os.listdir(dataset_directory):\n",
        "    os.makedirs(validation_directory + '/' + dir_path, exist_ok=True)"
      ],
      "execution_count": 9,
      "outputs": []
    },
    {
      "cell_type": "code",
      "metadata": {
        "id": "CRiXbfC2hRg7"
      },
      "source": [
        "import os\n",
        "import random\n",
        "\n",
        "import numpy as np\n",
        "import tensorflow as tf\n",
        "\n",
        "seed = 42\n",
        "\n",
        "random.seed(seed)\n",
        "np.random.seed(seed)\n",
        "tf.random.set_seed(seed)\n",
        "os.environ[\"PYTHONHASHSEED\"] = str(seed)"
      ],
      "execution_count": 10,
      "outputs": []
    },
    {
      "cell_type": "code",
      "metadata": {
        "id": "plq6tEfKv6KC"
      },
      "source": [
        "import glob\n",
        "import shutil\n",
        "import random\n",
        "\n",
        "train_ratio = 0.75  # 学習データの割合\n",
        "\n",
        "random.seed(42)\n",
        "\n",
        "# コピー元ディレクトリ取得\n",
        "directory_list = glob.glob(dataset_directory + '/*')\n",
        "for temp_directory in directory_list:\n",
        "    file_list = glob.glob(temp_directory + '/*')\n",
        "\n",
        "    # ディレクトリへコピー\n",
        "    for index, filepath in enumerate(file_list):\n",
        "        if index < int(len(file_list) * train_ratio):\n",
        "            # 学習用データ\n",
        "            shutil.copy2(filepath, train_directory + '/' + os.path.basename(temp_directory))\n",
        "        else:\n",
        "            # 検証用データ\n",
        "            shutil.copy2(filepath, validation_directory + '/' + os.path.basename(temp_directory))"
      ],
      "execution_count": 11,
      "outputs": []
    },
    {
      "cell_type": "markdown",
      "metadata": {
        "id": "v4ugse-pvgxS"
      },
      "source": [
        "# XXXXXXX"
      ]
    },
    {
      "cell_type": "code",
      "metadata": {
        "id": "VAaCp9vO21FS"
      },
      "source": [
        "!pip install -U albumentations"
      ],
      "execution_count": null,
      "outputs": []
    },
    {
      "cell_type": "code",
      "metadata": {
        "id": "8i5VFmLy20WF"
      },
      "source": [
        "# Albumentationsを用いたデータ拡張設定\n",
        "import albumentations as A\n",
        "\n",
        "def preprocessing_augmentation_function(param_p = 0.0):\n",
        "    transform = [\n",
        "        A.Cutout(num_holes=8,\n",
        "                 max_h_size=8,\n",
        "                 max_w_size=8,\n",
        "                 fill_value=0,\n",
        "                 p=param_p),\n",
        "        A.Cutout(num_holes=8,\n",
        "                 max_h_size=8,\n",
        "                 max_w_size=8,\n",
        "                 fill_value=255,\n",
        "                 p=param_p),\n",
        "    ]\n",
        "    augmentation_function = A.Compose(transform)\n",
        "\n",
        "    def augmentation(x):\n",
        "        augmentation_image = augmentation_function(image=x)\n",
        "        return augmentation_image['image']\n",
        "\n",
        "    return augmentation"
      ],
      "execution_count": 15,
      "outputs": []
    },
    {
      "cell_type": "code",
      "metadata": {
        "id": "pfpACsOZ-5MH"
      },
      "source": [
        "from tensorflow.keras.preprocessing.image import ImageDataGenerator\n",
        "\n",
        "train_image_da_generator = ImageDataGenerator(\n",
        "    rescale=1.0/255,\n",
        "    preprocessing_function=preprocessing_augmentation_function(0.1),\n",
        ")\n",
        "validation_image_generator = ImageDataGenerator(rescale=1.0/255)"
      ],
      "execution_count": 16,
      "outputs": []
    },
    {
      "cell_type": "code",
      "metadata": {
        "id": "PwigwiYUaWBO",
        "colab": {
          "base_uri": "https://localhost:8080/"
        },
        "outputId": "9d569ca2-982d-4b9f-c797-7a3e4c005032"
      },
      "source": [
        "batch_size = 64\n",
        "image_height, image_width = 96, 96\n",
        "\n",
        "train_data_gen = train_image_da_generator.flow_from_directory(\n",
        "    batch_size=batch_size,\n",
        "    directory=train_directory,\n",
        "    shuffle=True,\n",
        "    target_size=(image_height, image_width),\n",
        "    class_mode='categorical'\n",
        ")\n",
        "validation_data_gen = validation_image_generator.flow_from_directory(\n",
        "    batch_size=batch_size,\n",
        "    directory=validation_directory,\n",
        "    shuffle=False,\n",
        "    target_size=(image_height, image_width),\n",
        "    class_mode='categorical'\n",
        ")"
      ],
      "execution_count": 17,
      "outputs": [
        {
          "output_type": "stream",
          "text": [
            "Found 67490 images belonging to 12 classes.\n",
            "Found 22500 images belonging to 12 classes.\n"
          ],
          "name": "stdout"
        }
      ]
    },
    {
      "cell_type": "code",
      "metadata": {
        "id": "v7Flgo8v3Y0w",
        "colab": {
          "base_uri": "https://localhost:8080/"
        },
        "outputId": "3b91b11e-6053-4df6-b342-87c992de9b31"
      },
      "source": [
        "base_model = tf.keras.applications.MobileNetV2(include_top=False, weights='imagenet', input_shape=(96, 96, 3))\n",
        "\n",
        "base_model.trainable = True\n",
        "\n",
        "x = tf.keras.layers.GlobalAveragePooling2D()(base_model.output)\n",
        "output = tf.keras.layers.Dense(12, activation='softmax', name='last_output')(x)\n",
        "model = tf.keras.Model(inputs=base_model.inputs, outputs=output, name='model')\n",
        "\n",
        "model.compile(\n",
        "    optimizer='sgd',\n",
        "    loss='categorical_crossentropy',\n",
        "    metrics=['accuracy']\n",
        ")"
      ],
      "execution_count": 18,
      "outputs": [
        {
          "output_type": "stream",
          "text": [
            "Downloading data from https://storage.googleapis.com/tensorflow/keras-applications/mobilenet_v2/mobilenet_v2_weights_tf_dim_ordering_tf_kernels_1.0_96_no_top.h5\n",
            "9412608/9406464 [==============================] - 0s 0us/step\n"
          ],
          "name": "stdout"
        }
      ]
    },
    {
      "cell_type": "code",
      "metadata": {
        "id": "MIrx4g4V4Zdi"
      },
      "source": [
        "# モデルチェックポイント保存用コールバック\n",
        "checkpoint_path = os.path.join(os.getcwd(), 'checkpoints', 'weights.hdf5')\n",
        "cp_callback = tf.keras.callbacks.ModelCheckpoint(\n",
        "    checkpoint_path, \n",
        "    verbose=1, \n",
        "    save_best_only=True,\n",
        "    mode='auto',\n",
        "    save_weights_only=False, \n",
        "    save_freq='epoch'\n",
        ")\n",
        "\n",
        "# 評価値の改善が見られない場合に学習率を減らすコールバック\n",
        "lrp_callback = tf.keras.callbacks.ReduceLROnPlateau(monitor='val_loss', factor=0.1, patience=5, verbose=1)\n",
        "\n",
        "# 早期打ち切り用コールバック\n",
        "es_callback = tf.keras.callbacks.EarlyStopping(monitor='val_loss', patience=10, verbose=1) "
      ],
      "execution_count": 19,
      "outputs": []
    },
    {
      "cell_type": "code",
      "metadata": {
        "id": "jV1y-6R63ntD",
        "colab": {
          "base_uri": "https://localhost:8080/"
        },
        "outputId": "657500d9-1107-4182-db63-aba94cf48e88"
      },
      "source": [
        "epochs = 100\n",
        "\n",
        "history = model.fit(\n",
        "    train_data_gen,\n",
        "    epochs=epochs,\n",
        "    validation_data=validation_data_gen,\n",
        "    callbacks=[cp_callback, lrp_callback, es_callback]\n",
        ")"
      ],
      "execution_count": 20,
      "outputs": [
        {
          "output_type": "stream",
          "text": [
            "Epoch 1/100\n",
            "1055/1055 [==============================] - 114s 90ms/step - loss: 0.4584 - accuracy: 0.8532 - val_loss: 0.5188 - val_accuracy: 0.8428\n",
            "\n",
            "Epoch 00001: val_loss improved from inf to 0.51883, saving model to /content/checkpoints/weights.hdf5\n"
          ],
          "name": "stdout"
        },
        {
          "output_type": "stream",
          "text": [
            "/usr/local/lib/python3.7/dist-packages/tensorflow/python/keras/utils/generic_utils.py:497: CustomMaskWarning: Custom mask layers require a config and must override get_config. When loading, the custom mask layer must be passed to the custom_objects argument.\n",
            "  category=CustomMaskWarning)\n"
          ],
          "name": "stderr"
        },
        {
          "output_type": "stream",
          "text": [
            "Epoch 2/100\n",
            "1055/1055 [==============================] - 92s 87ms/step - loss: 0.2369 - accuracy: 0.9193 - val_loss: 0.2745 - val_accuracy: 0.9098\n",
            "\n",
            "Epoch 00002: val_loss improved from 0.51883 to 0.27449, saving model to /content/checkpoints/weights.hdf5\n",
            "Epoch 3/100\n",
            "1055/1055 [==============================] - 93s 88ms/step - loss: 0.1781 - accuracy: 0.9386 - val_loss: 0.2151 - val_accuracy: 0.9260\n",
            "\n",
            "Epoch 00003: val_loss improved from 0.27449 to 0.21505, saving model to /content/checkpoints/weights.hdf5\n",
            "Epoch 4/100\n",
            "1055/1055 [==============================] - 95s 90ms/step - loss: 0.1436 - accuracy: 0.9497 - val_loss: 0.1838 - val_accuracy: 0.9376\n",
            "\n",
            "Epoch 00004: val_loss improved from 0.21505 to 0.18379, saving model to /content/checkpoints/weights.hdf5\n",
            "Epoch 5/100\n",
            "1055/1055 [==============================] - 94s 89ms/step - loss: 0.1169 - accuracy: 0.9583 - val_loss: 0.2034 - val_accuracy: 0.9332\n",
            "\n",
            "Epoch 00005: val_loss did not improve from 0.18379\n",
            "Epoch 6/100\n",
            "1055/1055 [==============================] - 93s 89ms/step - loss: 0.0972 - accuracy: 0.9656 - val_loss: 0.1735 - val_accuracy: 0.9418\n",
            "\n",
            "Epoch 00006: val_loss improved from 0.18379 to 0.17354, saving model to /content/checkpoints/weights.hdf5\n",
            "Epoch 7/100\n",
            "1055/1055 [==============================] - 94s 89ms/step - loss: 0.0826 - accuracy: 0.9706 - val_loss: 0.1693 - val_accuracy: 0.9423\n",
            "\n",
            "Epoch 00007: val_loss improved from 0.17354 to 0.16935, saving model to /content/checkpoints/weights.hdf5\n",
            "Epoch 8/100\n",
            "1055/1055 [==============================] - 93s 88ms/step - loss: 0.0729 - accuracy: 0.9744 - val_loss: 0.2014 - val_accuracy: 0.9380\n",
            "\n",
            "Epoch 00008: val_loss did not improve from 0.16935\n",
            "Epoch 9/100\n",
            "1055/1055 [==============================] - 93s 88ms/step - loss: 0.0651 - accuracy: 0.9778 - val_loss: 0.2095 - val_accuracy: 0.9411\n",
            "\n",
            "Epoch 00009: val_loss did not improve from 0.16935\n",
            "Epoch 10/100\n",
            "1055/1055 [==============================] - 93s 89ms/step - loss: 0.0583 - accuracy: 0.9798 - val_loss: 0.2110 - val_accuracy: 0.9399\n",
            "\n",
            "Epoch 00010: val_loss did not improve from 0.16935\n",
            "Epoch 11/100\n",
            "1055/1055 [==============================] - 93s 88ms/step - loss: 0.0531 - accuracy: 0.9814 - val_loss: 0.1610 - val_accuracy: 0.9483\n",
            "\n",
            "Epoch 00011: val_loss improved from 0.16935 to 0.16101, saving model to /content/checkpoints/weights.hdf5\n",
            "Epoch 12/100\n",
            "1055/1055 [==============================] - 94s 89ms/step - loss: 0.0481 - accuracy: 0.9834 - val_loss: 0.2024 - val_accuracy: 0.9421\n",
            "\n",
            "Epoch 00012: val_loss did not improve from 0.16101\n",
            "Epoch 13/100\n",
            "1055/1055 [==============================] - 92s 88ms/step - loss: 0.0444 - accuracy: 0.9847 - val_loss: 0.1948 - val_accuracy: 0.9420\n",
            "\n",
            "Epoch 00013: val_loss did not improve from 0.16101\n",
            "Epoch 14/100\n",
            "1055/1055 [==============================] - 93s 88ms/step - loss: 0.0410 - accuracy: 0.9864 - val_loss: 0.1982 - val_accuracy: 0.9436\n",
            "\n",
            "Epoch 00014: val_loss did not improve from 0.16101\n",
            "Epoch 15/100\n",
            "1055/1055 [==============================] - 94s 89ms/step - loss: 0.0374 - accuracy: 0.9871 - val_loss: 0.1769 - val_accuracy: 0.9476\n",
            "\n",
            "Epoch 00015: val_loss did not improve from 0.16101\n",
            "Epoch 16/100\n",
            "1055/1055 [==============================] - 94s 89ms/step - loss: 0.0376 - accuracy: 0.9880 - val_loss: 0.2083 - val_accuracy: 0.9453\n",
            "\n",
            "Epoch 00016: val_loss did not improve from 0.16101\n",
            "\n",
            "Epoch 00016: ReduceLROnPlateau reducing learning rate to 0.0009999999776482583.\n",
            "Epoch 17/100\n",
            "1055/1055 [==============================] - 94s 89ms/step - loss: 0.0262 - accuracy: 0.9922 - val_loss: 0.1749 - val_accuracy: 0.9504\n",
            "\n",
            "Epoch 00017: val_loss did not improve from 0.16101\n",
            "Epoch 18/100\n",
            "1055/1055 [==============================] - 96s 91ms/step - loss: 0.0244 - accuracy: 0.9925 - val_loss: 0.1693 - val_accuracy: 0.9508\n",
            "\n",
            "Epoch 00018: val_loss did not improve from 0.16101\n",
            "Epoch 19/100\n",
            "1055/1055 [==============================] - 95s 90ms/step - loss: 0.0222 - accuracy: 0.9934 - val_loss: 0.1663 - val_accuracy: 0.9520\n",
            "\n",
            "Epoch 00019: val_loss did not improve from 0.16101\n",
            "Epoch 20/100\n",
            "1055/1055 [==============================] - 97s 92ms/step - loss: 0.0209 - accuracy: 0.9938 - val_loss: 0.1692 - val_accuracy: 0.9519\n",
            "\n",
            "Epoch 00020: val_loss did not improve from 0.16101\n",
            "Epoch 21/100\n",
            "1055/1055 [==============================] - 97s 92ms/step - loss: 0.0205 - accuracy: 0.9938 - val_loss: 0.1707 - val_accuracy: 0.9519\n",
            "\n",
            "Epoch 00021: val_loss did not improve from 0.16101\n",
            "\n",
            "Epoch 00021: ReduceLROnPlateau reducing learning rate to 9.999999310821295e-05.\n",
            "Epoch 00021: early stopping\n"
          ],
          "name": "stdout"
        }
      ]
    },
    {
      "cell_type": "markdown",
      "metadata": {
        "id": "oksYdmeDnq30"
      },
      "source": [
        "# XXXXXXXX"
      ]
    },
    {
      "cell_type": "code",
      "metadata": {
        "id": "gNPuy22_WqqI",
        "colab": {
          "base_uri": "https://localhost:8080/"
        },
        "outputId": "43d94b5d-b69b-45a1-82be-850254ebc2d1"
      },
      "source": [
        "evaluate_result = model.evaluate_generator(validation_data_gen)\n",
        "print('Validation Loss:' + str(evaluate_result[0]))\n",
        "print('Validation Accuracy:' + str(evaluate_result[1]))"
      ],
      "execution_count": 21,
      "outputs": [
        {
          "output_type": "stream",
          "text": [
            "/usr/local/lib/python3.7/dist-packages/tensorflow/python/keras/engine/training.py:1973: UserWarning: `Model.evaluate_generator` is deprecated and will be removed in a future version. Please use `Model.evaluate`, which supports generators.\n",
            "  warnings.warn('`Model.evaluate_generator` is deprecated and '\n"
          ],
          "name": "stderr"
        },
        {
          "output_type": "stream",
          "text": [
            "Validation Loss:0.1707179993391037\n",
            "Validation Accuracy:0.9518666863441467\n"
          ],
          "name": "stdout"
        }
      ]
    },
    {
      "cell_type": "code",
      "metadata": {
        "colab": {
          "base_uri": "https://localhost:8080/",
          "height": 287
        },
        "id": "V-A5oXKWm-8Q",
        "outputId": "35272b7a-d412-4c8d-fa79-6cba6cc36175"
      },
      "source": [
        "import matplotlib.pyplot as plt\n",
        "\n",
        "def plot_history(history):\n",
        "    plt.figure(figsize=(19, 6))\n",
        "\n",
        "    # 精度の履歴をプロット\n",
        "    plt.subplot(1, 2, 1)\n",
        "    plt.title('accuracy')\n",
        "    plt.plot(history.history['accuracy'],\"-\",label=\"accuracy\")\n",
        "    plt.plot(history.history['val_accuracy'],\"-\",label=\"val_accuracy\")\n",
        "    plt.xlabel('epoch')\n",
        "    plt.ylabel('accuracy')\n",
        "    plt.legend(loc=\"lower right\")\n",
        " \n",
        "    # 損失の履歴をプロット\n",
        "    plt.subplot(1, 2, 2)\n",
        "    plt.title('loss')\n",
        "    plt.plot(history.history['loss'],\"-\",label=\"loss\",)\n",
        "    plt.plot(history.history['val_loss'],\"-\",label=\"val_loss\")\n",
        "    plt.xlabel('epoch')\n",
        "    plt.ylabel('loss')\n",
        "    plt.legend(loc='upper right')\n",
        "    plt.show()\n",
        "    \n",
        "plot_history(history)"
      ],
      "execution_count": 22,
      "outputs": [
        {
          "output_type": "display_data",
          "data": {
            "image/png": "[encoded data removed]",
            "text/plain": [
              "<Figure size 1368x432 with 2 Axes>"
            ]
          },
          "metadata": {
            "tags": [],
            "needs_background": "light"
          }
        }
      ]
    },
    {
      "cell_type": "code",
      "metadata": {
        "id": "vkPqhci35vEm"
      },
      "source": [
        "import math\n",
        "import cv2 as cv\n",
        "import numpy as np\n",
        "\n",
        "def draw_images(images):\n",
        "    column = 6\n",
        "    row = math.ceil(len(images) / column)\n",
        "\n",
        "    plt.figure(figsize=(16, 11))\n",
        "    plt.subplots_adjust(wspace=0.4, hspace=0.6)\n",
        "\n",
        "    for i, image in enumerate(images):\n",
        "        debug_image = cv.imread(image[1])\n",
        "        \n",
        "        plt.subplot(row, column, i+1)\n",
        "        plt.title(str(image[0]), fontsize=10) \n",
        "        plt.tick_params(color='white')\n",
        "        plt.tick_params(labelbottom=False, labelleft=False, labelright=False, labeltop=False)\n",
        "        plt.imshow(cv.cvtColor(debug_image, cv.COLOR_BGR2RGB))\n",
        "        plt.xlabel('', fontsize=15)\n",
        "        plt.ylabel('', rotation=0, fontsize=15, labelpad=20)\n",
        "\n",
        "    plt.show()\n",
        "\n",
        "Y_pred = model.predict_generator(validation_data_gen)\n",
        "y_pred = np.argmax(Y_pred, axis=1)\n",
        "\n",
        "incorrect_numbers = []\n",
        "for true_num, pred_num, filepath in zip(validation_data_gen.classes, y_pred, validation_data_gen.filepaths):\n",
        "    if true_num != pred_num:\n",
        "        if pred_num == 10:\n",
        "            incorrect_numbers.append(['-(10)', filepath])\n",
        "        elif pred_num == 11:\n",
        "            incorrect_numbers.append(['N(11)', filepath])\n",
        "        else:\n",
        "            incorrect_numbers.append([pred_num, filepath])\n",
        "\n",
        "draw_images(incorrect_numbers)"
      ],
      "execution_count": null,
      "outputs": []
    },
    {
      "cell_type": "markdown",
      "metadata": {
        "id": "nobuI67-nNIa"
      },
      "source": [
        "# XXXXXXXX"
      ]
    },
    {
      "cell_type": "code",
      "metadata": {
        "id": "0WJrVLWjfwlD"
      },
      "source": [
        "model_path = 'checkpoints/weights.hdf5'\n",
        "load_model = tf.keras.models.load_model(model_path)"
      ],
      "execution_count": 29,
      "outputs": []
    },
    {
      "cell_type": "code",
      "metadata": {
        "id": "7-7-0FsWfzcb",
        "colab": {
          "base_uri": "https://localhost:8080/",
          "height": 286
        },
        "outputId": "5180bd00-b49f-4e48-d989-14c852e2f8a6"
      },
      "source": [
        "import cv2\n",
        "import matplotlib.pyplot as plt\n",
        "\n",
        "test_image = cv2.imread('./dataset/07/00007004.jpg')\n",
        "test_image = cv2.resize(test_image, (96, 96))\n",
        "\n",
        "# グレースケール化\n",
        "test_image = cv2.cvtColor(test_image, cv2.COLOR_BGR2GRAY)\n",
        "\n",
        "# # ヒストグラム平坦化\n",
        "clahe = cv2.createCLAHE(clipLimit=2.0, tileGridSize=(8, 8))\n",
        "test_image = clahe.apply(test_image)\n",
        "\n",
        "# # ガウシアンブラー\n",
        "test_image = cv2.GaussianBlur(test_image, (3, 3), 0)\n",
        "\n",
        "# 2値化\n",
        "_, test_image = cv2.threshold(test_image, 0, 255, cv2.THRESH_BINARY + cv2.THRESH_OTSU)\n",
        "\n",
        "test_image = cv2.cvtColor(test_image, cv2.COLOR_GRAY2RGB)\n",
        " \n",
        "plt.imshow(test_image)"
      ],
      "execution_count": 33,
      "outputs": [
        {
          "output_type": "execute_result",
          "data": {
            "text/plain": [
              "<matplotlib.image.AxesImage at 0x7f41fe2e2f50>"
            ]
          },
          "metadata": {
            "tags": []
          },
          "execution_count": 33
        },
        {
          "output_type": "display_data",
          "data": {
            "image/png": "[encoded data removed]",
            "text/plain": [
              "<Figure size 432x288 with 1 Axes>"
            ]
          },
          "metadata": {
            "tags": [],
            "needs_background": "light"
          }
        }
      ]
    },
    {
      "cell_type": "code",
      "metadata": {
        "id": "626vf3v-f9ip"
      },
      "source": [
        "from tensorflow.keras.preprocessing.image import img_to_array, load_img\n",
        "\n",
        "# test_image = cv2.resize(test_image, (96, 96))\n",
        "# test_image = cv2.cvtColor(test_image, cv2.COLOR_BGR2RGB)\n",
        "test_image = img_to_array(test_image)\n",
        "test_image = test_image.reshape(-1, 96, 96, 3)\n",
        "test_image = test_image.astype('float32')\n",
        "test_image = test_image * 1.0 / 255"
      ],
      "execution_count": 34,
      "outputs": []
    },
    {
      "cell_type": "code",
      "metadata": {
        "id": "HzWRiagzgErP"
      },
      "source": [
        "predict_result = load_model.predict(test_image)"
      ],
      "execution_count": 35,
      "outputs": []
    },
    {
      "cell_type": "code",
      "metadata": {
        "id": "BKPp53MGgHbB",
        "colab": {
          "base_uri": "https://localhost:8080/"
        },
        "outputId": "d86499f5-a061-49f8-86bc-415f39cdaf48"
      },
      "source": [
        "print(np.squeeze(predict_result))\n",
        "print(np.argmax(np.squeeze(predict_result)))"
      ],
      "execution_count": 36,
      "outputs": [
        {
          "output_type": "stream",
          "text": [
            "[1.2479442e-04 7.1632865e-05 2.4944713e-04 5.0980520e-06 3.6893100e-05\n",
            " 5.7765774e-05 6.1657112e-05 9.9901164e-01 1.9079529e-05 9.9562603e-06\n",
            " 9.1197508e-06 3.4280162e-04]\n",
            "7\n"
          ],
          "name": "stdout"
        }
      ]
    },
    {
      "cell_type": "markdown",
      "metadata": {
        "id": "CoKU33ndduuK"
      },
      "source": [
        "# XXXXXXXX"
      ]
    },
    {
      "cell_type": "code",
      "metadata": {
        "id": "UhC5NGAsfKNA",
        "colab": {
          "base_uri": "https://localhost:8080/"
        },
        "outputId": "1c4ea3d5-3584-44c0-ac93-614d54fe3c43"
      },
      "source": [
        "load_model.save('7seg_classifier.hdf5', include_optimizer=False)"
      ],
      "execution_count": 37,
      "outputs": [
        {
          "output_type": "stream",
          "text": [
            "/usr/local/lib/python3.7/dist-packages/tensorflow/python/keras/utils/generic_utils.py:497: CustomMaskWarning: Custom mask layers require a config and must override get_config. When loading, the custom mask layer must be passed to the custom_objects argument.\n",
            "  category=CustomMaskWarning)\n"
          ],
          "name": "stderr"
        }
      ]
    },
    {
      "cell_type": "code",
      "metadata": {
        "id": "9dMZ3BSAfL0G",
        "colab": {
          "base_uri": "https://localhost:8080/"
        },
        "outputId": "e6b361e0-85be-4363-ac74-9e0695e14026"
      },
      "source": [
        "converter = tf.lite.TFLiteConverter.from_keras_model(model)\n",
        "converter.optimizations = [tf.lite.Optimize.DEFAULT]\n",
        "tflite_quantized_model = converter.convert()\n",
        "\n",
        "open('7seg_classifier.tflite', 'wb').write(tflite_quantized_model)"
      ],
      "execution_count": 38,
      "outputs": [
        {
          "output_type": "stream",
          "text": [
            "/usr/local/lib/python3.7/dist-packages/tensorflow/python/keras/utils/generic_utils.py:497: CustomMaskWarning: Custom mask layers require a config and must override get_config. When loading, the custom mask layer must be passed to the custom_objects argument.\n",
            "  category=CustomMaskWarning)\n"
          ],
          "name": "stderr"
        },
        {
          "output_type": "stream",
          "text": [
            "INFO:tensorflow:Assets written to: /tmp/tmpd76q2ibe/assets\n"
          ],
          "name": "stdout"
        },
        {
          "output_type": "execute_result",
          "data": {
            "text/plain": [
              "2654048"
            ]
          },
          "metadata": {
            "tags": []
          },
          "execution_count": 38
        }
      ]
    },
    {
      "cell_type": "markdown",
      "metadata": {
        "id": "655A6qhXLenW"
      },
      "source": [
        "# XXXXXXXX"
      ]
    },
    {
      "cell_type": "code",
      "metadata": {
        "id": "4t0id7YgfQ5b"
      },
      "source": [
        "interpreter = tf.lite.Interpreter(model_path=\"7seg_classifier.tflite\")\n",
        "interpreter.allocate_tensors()"
      ],
      "execution_count": 39,
      "outputs": []
    },
    {
      "cell_type": "code",
      "metadata": {
        "id": "I5zdSj-nfSdn",
        "colab": {
          "base_uri": "https://localhost:8080/"
        },
        "outputId": "ba40a5ae-1820-41cc-996f-4ff69fe90295"
      },
      "source": [
        "input_details = interpreter.get_input_details()\n",
        "output_details = interpreter.get_output_details()\n",
        "print(input_details)\n",
        "print(output_details)"
      ],
      "execution_count": 40,
      "outputs": [
        {
          "output_type": "stream",
          "text": [
            "[{'name': 'input_1', 'index': 0, 'shape': array([ 1, 96, 96,  3], dtype=int32), 'shape_signature': array([-1, 96, 96,  3], dtype=int32), 'dtype': <class 'numpy.float32'>, 'quantization': (0.0, 0), 'quantization_parameters': {'scales': array([], dtype=float32), 'zero_points': array([], dtype=int32), 'quantized_dimension': 0}, 'sparsity_parameters': {}}]\n",
            "[{'name': 'Identity', 'index': 177, 'shape': array([ 1, 12], dtype=int32), 'shape_signature': array([-1, 12], dtype=int32), 'dtype': <class 'numpy.float32'>, 'quantization': (0.0, 0), 'quantization_parameters': {'scales': array([], dtype=float32), 'zero_points': array([], dtype=int32), 'quantized_dimension': 0}, 'sparsity_parameters': {}}]\n"
          ],
          "name": "stdout"
        }
      ]
    },
    {
      "cell_type": "code",
      "metadata": {
        "id": "diQuS7EZfUjZ"
      },
      "source": [
        "interpreter.set_tensor(input_details[0]['index'], test_image)\n",
        "interpreter.invoke()"
      ],
      "execution_count": 41,
      "outputs": []
    },
    {
      "cell_type": "code",
      "metadata": {
        "id": "09prFVlpfXBj"
      },
      "source": [
        "tflite_results = interpreter.get_tensor(output_details[0]['index'])"
      ],
      "execution_count": 42,
      "outputs": []
    },
    {
      "cell_type": "code",
      "metadata": {
        "id": "fy1t99p9fayG",
        "colab": {
          "base_uri": "https://localhost:8080/"
        },
        "outputId": "20641998-f469-43f8-dd04-5a9a4724f532"
      },
      "source": [
        "print(np.squeeze(tflite_results))\n",
        "print(np.argmax(np.squeeze(tflite_results)))"
      ],
      "execution_count": 43,
      "outputs": [
        {
          "output_type": "stream",
          "text": [
            "[1.5984946e-05 3.2863602e-05 4.4031899e-06 6.6578406e-07 3.5562098e-05\n",
            " 7.7032264e-06 2.6165142e-05 9.9982363e-01 1.2921943e-06 1.3357984e-05\n",
            " 4.9497426e-06 3.3419736e-05]\n",
            "7\n"
          ],
          "name": "stdout"
        }
      ]
    },
    {
      "cell_type": "code",
      "metadata": {
        "id": "3GnNzgFcAc5j"
      },
      "source": [
        ""
      ],
      "execution_count": null,
      "outputs": []
    }
  ]
}