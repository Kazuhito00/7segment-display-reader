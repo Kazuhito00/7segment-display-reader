{
  "nbformat": 4,
  "nbformat_minor": 0,
  "metadata": {
    "accelerator": "GPU",
    "colab": {
      "name": "01-01.train_model.ipynb",
      "provenance": [],
      "collapsed_sections": [],
      "toc_visible": true
    },
    "kernelspec": {
      "display_name": "Python 3",
      "name": "python3"
    }
  },
  "cells": [
    {
      "cell_type": "markdown",
      "metadata": {
        "id": "Y7Oh08yAhHwT"
      },
      "source": [
        "# XXXXXXXX"
      ]
    },
    {
      "cell_type": "code",
      "metadata": {
        "id": "_OwRCliygZBI"
      },
      "source": [
        "!git clone https://github.com/Kazuhito00/7-segment-display-reader"
      ],
      "execution_count": null,
      "outputs": []
    },
    {
      "cell_type": "markdown",
      "metadata": {
        "id": "B6iLw5KChHAk"
      },
      "source": [
        "# XXXXXXXX"
      ]
    },
    {
      "cell_type": "code",
      "metadata": {
        "colab": {
          "base_uri": "https://localhost:8080/"
        },
        "id": "8hJhtoVbtXtc",
        "outputId": "2045e474-f8fb-45b7-e510-593c5eb06867"
      },
      "source": [
        "!git clone https://github.com/Kazuhito00/7seg-image-generator.git"
      ],
      "execution_count": 2,
      "outputs": [
        {
          "output_type": "stream",
          "text": [
            "Cloning into '7seg-image-generator'...\n",
            "remote: Enumerating objects: 45, done.\u001b[K\n",
            "remote: Counting objects: 100% (45/45), done.\u001b[K\n",
            "remote: Compressing objects: 100% (36/36), done.\u001b[K\n",
            "remote: Total 45 (delta 21), reused 20 (delta 6), pack-reused 0\u001b[K\n",
            "Unpacking objects: 100% (45/45), done.\n"
          ],
          "name": "stdout"
        }
      ]
    },
    {
      "cell_type": "code",
      "metadata": {
        "colab": {
          "base_uri": "https://localhost:8080/"
        },
        "id": "UjwC9CxN2fwZ",
        "outputId": "98ab0257-14c4-4814-95e9-d4ef4c42dab9"
      },
      "source": [
        "!python '7seg-image-generator/create_7segment_dataset_da(easy).py' \\\n",
        "    --erase_debug_window \\\n",
        "    --steps=4000 \\\n",
        "    --start_count=10000000"
      ],
      "execution_count": 3,
      "outputs": [
        {
          "output_type": "stream",
          "text": [
            "100% 4000/4000 [00:36<00:00, 111.07it/s]\n"
          ],
          "name": "stdout"
        }
      ]
    },
    {
      "cell_type": "markdown",
      "metadata": {
        "id": "A3-dkAwMia4v"
      },
      "source": [
        "# XXXXXXXX"
      ]
    },
    {
      "cell_type": "code",
      "metadata": {
        "id": "k0rX5nAe9hTO"
      },
      "source": [
        "%cp -rf './7-segment-display-reader/01.dataset/00' './dataset'\n",
        "%cp -rf './7-segment-display-reader/01.dataset/01' './dataset'\n",
        "%cp -rf './7-segment-display-reader/01.dataset/02' './dataset'\n",
        "%cp -rf './7-segment-display-reader/01.dataset/03' './dataset'\n",
        "%cp -rf './7-segment-display-reader/01.dataset/04' './dataset'\n",
        "%cp -rf './7-segment-display-reader/01.dataset/05' './dataset'\n",
        "%cp -rf './7-segment-display-reader/01.dataset/06' './dataset'\n",
        "%cp -rf './7-segment-display-reader/01.dataset/07' './dataset'\n",
        "%cp -rf './7-segment-display-reader/01.dataset/08' './dataset'\n",
        "%cp -rf './7-segment-display-reader/01.dataset/09' './dataset'\n",
        "%cp -rf './7-segment-display-reader/01.dataset/11' './dataset'"
      ],
      "execution_count": 4,
      "outputs": []
    },
    {
      "cell_type": "markdown",
      "metadata": {
        "id": "BUuk1DIvifE7"
      },
      "source": [
        "# XXXXXXXX"
      ]
    },
    {
      "cell_type": "code",
      "metadata": {
        "id": "tJo-iE4twmkr"
      },
      "source": [
        "import os\n",
        "\n",
        "dataset_directory = './dataset'\n",
        "train_directory = './train'\n",
        "validation_directory = './validation'\n",
        "\n",
        "# 学習データ格納ディレクトリ作成　※「dataset_directory」と同様の構成\n",
        "for dir_path in os.listdir(dataset_directory):\n",
        "    os.makedirs(train_directory + '/' + dir_path, exist_ok=True)\n",
        "# 検証データ格納ディレクトリ作成　※「dataset_directory」と同様の構成\n",
        "for dir_path in os.listdir(dataset_directory):\n",
        "    os.makedirs(validation_directory + '/' + dir_path, exist_ok=True)"
      ],
      "execution_count": 6,
      "outputs": []
    },
    {
      "cell_type": "code",
      "metadata": {
        "id": "CRiXbfC2hRg7"
      },
      "source": [
        "import os\n",
        "import random\n",
        "\n",
        "import numpy as np\n",
        "import tensorflow as tf\n",
        "\n",
        "seed = 42\n",
        "\n",
        "random.seed(seed)\n",
        "np.random.seed(seed)\n",
        "tf.random.set_seed(seed)\n",
        "os.environ[\"PYTHONHASHSEED\"] = str(seed)"
      ],
      "execution_count": 7,
      "outputs": []
    },
    {
      "cell_type": "code",
      "metadata": {
        "id": "plq6tEfKv6KC"
      },
      "source": [
        "import glob\n",
        "import shutil\n",
        "import random\n",
        "\n",
        "train_ratio = 0.75  # 学習データの割合\n",
        "\n",
        "random.seed(42)\n",
        "\n",
        "# コピー元ディレクトリ取得\n",
        "directory_list = glob.glob(dataset_directory + '/*')\n",
        "for temp_directory in directory_list:\n",
        "    file_list = glob.glob(temp_directory + '/*')\n",
        "\n",
        "    # ディレクトリへコピー\n",
        "    for index, filepath in enumerate(file_list):\n",
        "        if index < int(len(file_list) * train_ratio):\n",
        "            # 学習用データ\n",
        "            shutil.copy2(filepath, train_directory + '/' + os.path.basename(temp_directory))\n",
        "        else:\n",
        "            # 検証用データ\n",
        "            shutil.copy2(filepath, validation_directory + '/' + os.path.basename(temp_directory))"
      ],
      "execution_count": 8,
      "outputs": []
    },
    {
      "cell_type": "markdown",
      "metadata": {
        "id": "v4ugse-pvgxS"
      },
      "source": [
        "# XXXXXXX"
      ]
    },
    {
      "cell_type": "code",
      "metadata": {
        "id": "VAaCp9vO21FS"
      },
      "source": [
        "!pip install -U albumentations"
      ],
      "execution_count": null,
      "outputs": []
    },
    {
      "cell_type": "code",
      "metadata": {
        "id": "8i5VFmLy20WF"
      },
      "source": [
        "# Albumentationsを用いたデータ拡張設定\n",
        "import albumentations as A\n",
        "\n",
        "def preprocessing_augmentation_function(param_p = 0.0):\n",
        "    transform = [\n",
        "        A.ShiftScaleRotate(shift_limit=0.1, \n",
        "                           scale_limit=0.1, \n",
        "                           rotate_limit=10,\n",
        "                           p=param_p),\n",
        "        A.MotionBlur(blur_limit=15, p=param_p),\n",
        "        A.GlassBlur(sigma=0.15, max_delta=4, iterations=1, p=param_p),\n",
        "        A.RandomBrightnessContrast(brightness_limit=0.2,\n",
        "                                   contrast_limit=0.2,\n",
        "                                   brightness_by_max=True,\n",
        "                                   p=param_p),\n",
        "        A.RGBShift(r_shift_limit=10,\n",
        "                   g_shift_limit=10,\n",
        "                   b_shift_limit=10,\n",
        "                   p=param_p),\n",
        "        A.Cutout(num_holes=8,\n",
        "                 max_h_size=8,\n",
        "                 max_w_size=8,\n",
        "                 fill_value=0,\n",
        "                 p=param_p),\n",
        "        A.Cutout(num_holes=8,\n",
        "                 max_h_size=8,\n",
        "                 max_w_size=8,\n",
        "                 fill_value=255,\n",
        "                 p=param_p),\n",
        "    ]\n",
        "    augmentation_function = A.Compose(transform)\n",
        "\n",
        "    def augmentation(x):\n",
        "        augmentation_image = augmentation_function(image=x)\n",
        "        return augmentation_image['image']\n",
        "\n",
        "    return augmentation"
      ],
      "execution_count": 10,
      "outputs": []
    },
    {
      "cell_type": "code",
      "metadata": {
        "id": "Jha2pIhn3Kum"
      },
      "source": [
        "from tensorflow.keras.preprocessing.image import ImageDataGenerator\n",
        "\n",
        "train_image_da_generator = ImageDataGenerator(\n",
        "    rescale=1.0/255,\n",
        "    preprocessing_function=preprocessing_augmentation_function(0.1),\n",
        ")\n",
        "validation_image_generator = ImageDataGenerator(rescale=1.0/255)"
      ],
      "execution_count": 11,
      "outputs": []
    },
    {
      "cell_type": "code",
      "metadata": {
        "id": "PwigwiYUaWBO",
        "colab": {
          "base_uri": "https://localhost:8080/"
        },
        "outputId": "49a3ae8f-65bb-4f16-a84c-bef531f3599f"
      },
      "source": [
        "batch_size = 64\n",
        "image_height, image_width = 96, 96\n",
        "\n",
        "train_data_gen = train_image_da_generator.flow_from_directory(\n",
        "    batch_size=batch_size,\n",
        "    directory=train_directory,\n",
        "    shuffle=True,\n",
        "    target_size=(image_height, image_width),\n",
        "    class_mode='categorical'\n",
        ")\n",
        "validation_data_gen = validation_image_generator.flow_from_directory(\n",
        "    batch_size=batch_size,\n",
        "    directory=validation_directory,\n",
        "    shuffle=False,\n",
        "    target_size=(image_height, image_width),\n",
        "    class_mode='categorical'\n",
        ")"
      ],
      "execution_count": 16,
      "outputs": [
        {
          "output_type": "stream",
          "text": [
            "Found 67490 images belonging to 12 classes.\n",
            "Found 22500 images belonging to 12 classes.\n"
          ],
          "name": "stdout"
        }
      ]
    },
    {
      "cell_type": "code",
      "metadata": {
        "id": "v7Flgo8v3Y0w",
        "colab": {
          "base_uri": "https://localhost:8080/"
        },
        "outputId": "aefc27b0-f88b-4818-ce44-d4f5a1026559"
      },
      "source": [
        "base_model = tf.keras.applications.MobileNetV2(include_top=False, weights='imagenet', input_shape=(96, 96, 3))\n",
        "\n",
        "base_model.trainable = True\n",
        "\n",
        "x = tf.keras.layers.GlobalAveragePooling2D()(base_model.output)\n",
        "output = tf.keras.layers.Dense(12, activation='softmax', name='last_output')(x)\n",
        "model = tf.keras.Model(inputs=base_model.inputs, outputs=output, name='model')\n",
        "\n",
        "model.compile(\n",
        "    optimizer='sgd',\n",
        "    loss='categorical_crossentropy',\n",
        "    metrics=['accuracy']\n",
        ")"
      ],
      "execution_count": 13,
      "outputs": [
        {
          "output_type": "stream",
          "text": [
            "Downloading data from https://storage.googleapis.com/tensorflow/keras-applications/mobilenet_v2/mobilenet_v2_weights_tf_dim_ordering_tf_kernels_1.0_96_no_top.h5\n",
            "9412608/9406464 [==============================] - 0s 0us/step\n"
          ],
          "name": "stdout"
        }
      ]
    },
    {
      "cell_type": "code",
      "metadata": {
        "id": "MIrx4g4V4Zdi"
      },
      "source": [
        "# モデルチェックポイント保存用コールバック\n",
        "checkpoint_path = os.path.join(os.getcwd(), 'checkpoints', 'weights.hdf5')\n",
        "cp_callback = tf.keras.callbacks.ModelCheckpoint(\n",
        "    checkpoint_path, \n",
        "    verbose=1, \n",
        "    save_best_only=True,\n",
        "    mode='auto',\n",
        "    save_weights_only=False, \n",
        "    save_freq='epoch'\n",
        ")\n",
        "\n",
        "# 評価値の改善が見られない場合に学習率を減らすコールバック\n",
        "lrp_callback = tf.keras.callbacks.ReduceLROnPlateau(monitor='val_loss', factor=0.1, patience=5, verbose=1)\n",
        "\n",
        "# 早期打ち切り用コールバック\n",
        "es_callback = tf.keras.callbacks.EarlyStopping(monitor='val_loss', patience=10, verbose=1) "
      ],
      "execution_count": 14,
      "outputs": []
    },
    {
      "cell_type": "code",
      "metadata": {
        "id": "jV1y-6R63ntD",
        "colab": {
          "base_uri": "https://localhost:8080/"
        },
        "outputId": "a1a10576-a98b-41bb-9d0c-6e098ce82349"
      },
      "source": [
        "epochs = 100\n",
        "\n",
        "history = model.fit(\n",
        "    train_data_gen,\n",
        "    epochs=epochs,\n",
        "    validation_data=validation_data_gen,\n",
        "    callbacks=[cp_callback, lrp_callback, es_callback]\n",
        ")"
      ],
      "execution_count": 17,
      "outputs": [
        {
          "output_type": "stream",
          "text": [
            "Epoch 1/100\n",
            "1055/1055 [==============================] - 109s 86ms/step - loss: 0.8692 - accuracy: 0.6930 - val_loss: 0.3902 - val_accuracy: 0.8752\n",
            "\n",
            "Epoch 00001: val_loss improved from inf to 0.39022, saving model to /content/checkpoints/weights.hdf5\n"
          ],
          "name": "stdout"
        },
        {
          "output_type": "stream",
          "text": [
            "/usr/local/lib/python3.7/dist-packages/tensorflow/python/keras/utils/generic_utils.py:497: CustomMaskWarning: Custom mask layers require a config and must override get_config. When loading, the custom mask layer must be passed to the custom_objects argument.\n",
            "  category=CustomMaskWarning)\n"
          ],
          "name": "stderr"
        },
        {
          "output_type": "stream",
          "text": [
            "Epoch 2/100\n",
            "1055/1055 [==============================] - 89s 84ms/step - loss: 0.7016 - accuracy: 0.7447 - val_loss: 0.0371 - val_accuracy: 0.9887\n",
            "\n",
            "Epoch 00002: val_loss improved from 0.39022 to 0.03711, saving model to /content/checkpoints/weights.hdf5\n",
            "Epoch 3/100\n",
            "1055/1055 [==============================] - 89s 85ms/step - loss: 0.6967 - accuracy: 0.7450 - val_loss: 0.0144 - val_accuracy: 0.9952\n",
            "\n",
            "Epoch 00003: val_loss improved from 0.03711 to 0.01438, saving model to /content/checkpoints/weights.hdf5\n",
            "Epoch 4/100\n",
            "1055/1055 [==============================] - 89s 85ms/step - loss: 0.6872 - accuracy: 0.7484 - val_loss: 0.0115 - val_accuracy: 0.9964\n",
            "\n",
            "Epoch 00004: val_loss improved from 0.01438 to 0.01155, saving model to /content/checkpoints/weights.hdf5\n",
            "Epoch 5/100\n",
            "1055/1055 [==============================] - 89s 85ms/step - loss: 0.6897 - accuracy: 0.7468 - val_loss: 0.0114 - val_accuracy: 0.9968\n",
            "\n",
            "Epoch 00005: val_loss improved from 0.01155 to 0.01137, saving model to /content/checkpoints/weights.hdf5\n",
            "Epoch 6/100\n",
            "1055/1055 [==============================] - 90s 85ms/step - loss: 0.6919 - accuracy: 0.7456 - val_loss: 0.0112 - val_accuracy: 0.9966\n",
            "\n",
            "Epoch 00006: val_loss improved from 0.01137 to 0.01115, saving model to /content/checkpoints/weights.hdf5\n",
            "Epoch 7/100\n",
            "1055/1055 [==============================] - 89s 84ms/step - loss: 0.6808 - accuracy: 0.7497 - val_loss: 0.0105 - val_accuracy: 0.9966\n",
            "\n",
            "Epoch 00007: val_loss improved from 0.01115 to 0.01050, saving model to /content/checkpoints/weights.hdf5\n",
            "Epoch 8/100\n",
            "1055/1055 [==============================] - 89s 84ms/step - loss: 0.6826 - accuracy: 0.7496 - val_loss: 0.0095 - val_accuracy: 0.9970\n",
            "\n",
            "Epoch 00008: val_loss improved from 0.01050 to 0.00946, saving model to /content/checkpoints/weights.hdf5\n",
            "Epoch 9/100\n",
            "1055/1055 [==============================] - 89s 84ms/step - loss: 0.6834 - accuracy: 0.7501 - val_loss: 0.0101 - val_accuracy: 0.9970\n",
            "\n",
            "Epoch 00009: val_loss did not improve from 0.00946\n",
            "Epoch 10/100\n",
            "1055/1055 [==============================] - 89s 85ms/step - loss: 0.6759 - accuracy: 0.7523 - val_loss: 0.0098 - val_accuracy: 0.9970\n",
            "\n",
            "Epoch 00010: val_loss did not improve from 0.00946\n",
            "Epoch 11/100\n",
            "1055/1055 [==============================] - 89s 85ms/step - loss: 0.6556 - accuracy: 0.7634 - val_loss: 0.0145 - val_accuracy: 0.9956\n",
            "\n",
            "Epoch 00011: val_loss did not improve from 0.00946\n",
            "Epoch 12/100\n",
            "1055/1055 [==============================] - 89s 85ms/step - loss: 0.6356 - accuracy: 0.7697 - val_loss: 0.0128 - val_accuracy: 0.9955\n",
            "\n",
            "Epoch 00012: val_loss did not improve from 0.00946\n",
            "Epoch 13/100\n",
            "1055/1055 [==============================] - 89s 84ms/step - loss: 0.6203 - accuracy: 0.7762 - val_loss: 0.0125 - val_accuracy: 0.9958\n",
            "\n",
            "Epoch 00013: val_loss did not improve from 0.00946\n",
            "\n",
            "Epoch 00013: ReduceLROnPlateau reducing learning rate to 0.0009999999776482583.\n",
            "Epoch 14/100\n",
            "1055/1055 [==============================] - 89s 84ms/step - loss: 0.6120 - accuracy: 0.7774 - val_loss: 0.0094 - val_accuracy: 0.9968\n",
            "\n",
            "Epoch 00014: val_loss improved from 0.00946 to 0.00944, saving model to /content/checkpoints/weights.hdf5\n",
            "Epoch 15/100\n",
            "1055/1055 [==============================] - 89s 84ms/step - loss: 0.6024 - accuracy: 0.7820 - val_loss: 0.0093 - val_accuracy: 0.9972\n",
            "\n",
            "Epoch 00015: val_loss improved from 0.00944 to 0.00931, saving model to /content/checkpoints/weights.hdf5\n",
            "Epoch 16/100\n",
            "1055/1055 [==============================] - 89s 84ms/step - loss: 0.6023 - accuracy: 0.7819 - val_loss: 0.0089 - val_accuracy: 0.9971\n",
            "\n",
            "Epoch 00016: val_loss improved from 0.00931 to 0.00889, saving model to /content/checkpoints/weights.hdf5\n",
            "Epoch 17/100\n",
            "1055/1055 [==============================] - 89s 84ms/step - loss: 0.6075 - accuracy: 0.7792 - val_loss: 0.0089 - val_accuracy: 0.9970\n",
            "\n",
            "Epoch 00017: val_loss improved from 0.00889 to 0.00889, saving model to /content/checkpoints/weights.hdf5\n",
            "Epoch 18/100\n",
            "1055/1055 [==============================] - 89s 84ms/step - loss: 0.5928 - accuracy: 0.7843 - val_loss: 0.0089 - val_accuracy: 0.9972\n",
            "\n",
            "Epoch 00018: val_loss did not improve from 0.00889\n",
            "Epoch 19/100\n",
            "1055/1055 [==============================] - 89s 84ms/step - loss: 0.5989 - accuracy: 0.7832 - val_loss: 0.0089 - val_accuracy: 0.9970\n",
            "\n",
            "Epoch 00019: val_loss improved from 0.00889 to 0.00887, saving model to /content/checkpoints/weights.hdf5\n",
            "Epoch 20/100\n",
            "1055/1055 [==============================] - 89s 84ms/step - loss: 0.5984 - accuracy: 0.7826 - val_loss: 0.0087 - val_accuracy: 0.9971\n",
            "\n",
            "Epoch 00020: val_loss improved from 0.00887 to 0.00874, saving model to /content/checkpoints/weights.hdf5\n",
            "Epoch 21/100\n",
            "1055/1055 [==============================] - 89s 84ms/step - loss: 0.5997 - accuracy: 0.7820 - val_loss: 0.0086 - val_accuracy: 0.9969\n",
            "\n",
            "Epoch 00021: val_loss improved from 0.00874 to 0.00864, saving model to /content/checkpoints/weights.hdf5\n",
            "Epoch 22/100\n",
            "1055/1055 [==============================] - 89s 85ms/step - loss: 0.5941 - accuracy: 0.7848 - val_loss: 0.0086 - val_accuracy: 0.9971\n",
            "\n",
            "Epoch 00022: val_loss improved from 0.00864 to 0.00861, saving model to /content/checkpoints/weights.hdf5\n",
            "Epoch 23/100\n",
            "1055/1055 [==============================] - 89s 84ms/step - loss: 0.5963 - accuracy: 0.7824 - val_loss: 0.0084 - val_accuracy: 0.9971\n",
            "\n",
            "Epoch 00023: val_loss improved from 0.00861 to 0.00839, saving model to /content/checkpoints/weights.hdf5\n",
            "Epoch 24/100\n",
            "1055/1055 [==============================] - 89s 84ms/step - loss: 0.5895 - accuracy: 0.7861 - val_loss: 0.0084 - val_accuracy: 0.9970\n",
            "\n",
            "Epoch 00024: val_loss did not improve from 0.00839\n",
            "Epoch 25/100\n",
            "1055/1055 [==============================] - 89s 84ms/step - loss: 0.5806 - accuracy: 0.7889 - val_loss: 0.0084 - val_accuracy: 0.9972\n",
            "\n",
            "Epoch 00025: val_loss did not improve from 0.00839\n",
            "Epoch 26/100\n",
            "1055/1055 [==============================] - 89s 85ms/step - loss: 0.5907 - accuracy: 0.7847 - val_loss: 0.0080 - val_accuracy: 0.9975\n",
            "\n",
            "Epoch 00026: val_loss improved from 0.00839 to 0.00804, saving model to /content/checkpoints/weights.hdf5\n",
            "Epoch 27/100\n",
            "1055/1055 [==============================] - 90s 85ms/step - loss: 0.5989 - accuracy: 0.7821 - val_loss: 0.0083 - val_accuracy: 0.9972\n",
            "\n",
            "Epoch 00027: val_loss did not improve from 0.00804\n",
            "Epoch 28/100\n",
            "1055/1055 [==============================] - 89s 84ms/step - loss: 0.5941 - accuracy: 0.7847 - val_loss: 0.0083 - val_accuracy: 0.9971\n",
            "\n",
            "Epoch 00028: val_loss did not improve from 0.00804\n",
            "Epoch 29/100\n",
            "1055/1055 [==============================] - 89s 84ms/step - loss: 0.5874 - accuracy: 0.7879 - val_loss: 0.0083 - val_accuracy: 0.9972\n",
            "\n",
            "Epoch 00029: val_loss did not improve from 0.00804\n",
            "Epoch 30/100\n",
            "1055/1055 [==============================] - 89s 84ms/step - loss: 0.5921 - accuracy: 0.7849 - val_loss: 0.0083 - val_accuracy: 0.9970\n",
            "\n",
            "Epoch 00030: val_loss did not improve from 0.00804\n",
            "Epoch 31/100\n",
            "1055/1055 [==============================] - 89s 84ms/step - loss: 0.5889 - accuracy: 0.7855 - val_loss: 0.0081 - val_accuracy: 0.9971\n",
            "\n",
            "Epoch 00031: val_loss did not improve from 0.00804\n",
            "\n",
            "Epoch 00031: ReduceLROnPlateau reducing learning rate to 9.999999310821295e-05.\n",
            "Epoch 32/100\n",
            "1055/1055 [==============================] - 89s 85ms/step - loss: 0.5824 - accuracy: 0.7877 - val_loss: 0.0080 - val_accuracy: 0.9973\n",
            "\n",
            "Epoch 00032: val_loss did not improve from 0.00804\n",
            "Epoch 33/100\n",
            "1055/1055 [==============================] - 89s 85ms/step - loss: 0.5835 - accuracy: 0.7893 - val_loss: 0.0081 - val_accuracy: 0.9972\n",
            "\n",
            "Epoch 00033: val_loss did not improve from 0.00804\n",
            "Epoch 34/100\n",
            "1055/1055 [==============================] - 88s 84ms/step - loss: 0.5861 - accuracy: 0.7875 - val_loss: 0.0081 - val_accuracy: 0.9972\n",
            "\n",
            "Epoch 00034: val_loss did not improve from 0.00804\n",
            "Epoch 35/100\n",
            "1055/1055 [==============================] - 89s 84ms/step - loss: 0.5888 - accuracy: 0.7850 - val_loss: 0.0081 - val_accuracy: 0.9972\n",
            "\n",
            "Epoch 00035: val_loss did not improve from 0.00804\n",
            "Epoch 36/100\n",
            "1055/1055 [==============================] - 89s 84ms/step - loss: 0.5850 - accuracy: 0.7864 - val_loss: 0.0081 - val_accuracy: 0.9972\n",
            "\n",
            "Epoch 00036: val_loss did not improve from 0.00804\n",
            "\n",
            "Epoch 00036: ReduceLROnPlateau reducing learning rate to 9.999999019782991e-06.\n",
            "Epoch 00036: early stopping\n"
          ],
          "name": "stdout"
        }
      ]
    },
    {
      "cell_type": "markdown",
      "metadata": {
        "id": "oksYdmeDnq30"
      },
      "source": [
        "# XXXXXXXX"
      ]
    },
    {
      "cell_type": "code",
      "metadata": {
        "id": "gNPuy22_WqqI",
        "colab": {
          "base_uri": "https://localhost:8080/"
        },
        "outputId": "f3774076-eb8f-41a0-84f0-527ff9386758"
      },
      "source": [
        "evaluate_result = model.evaluate_generator(validation_data_gen)\n",
        "print('Validation Loss:' + str(evaluate_result[0]))\n",
        "print('Validation Accuracy:' + str(evaluate_result[1]))"
      ],
      "execution_count": 18,
      "outputs": [
        {
          "output_type": "stream",
          "text": [
            "/usr/local/lib/python3.7/dist-packages/tensorflow/python/keras/engine/training.py:1973: UserWarning: `Model.evaluate_generator` is deprecated and will be removed in a future version. Please use `Model.evaluate`, which supports generators.\n",
            "  warnings.warn('`Model.evaluate_generator` is deprecated and '\n"
          ],
          "name": "stderr"
        },
        {
          "output_type": "stream",
          "text": [
            "Validation Loss:0.008103074505925179\n",
            "Validation Accuracy:0.9971555471420288\n"
          ],
          "name": "stdout"
        }
      ]
    },
    {
      "cell_type": "code",
      "metadata": {
        "colab": {
          "base_uri": "https://localhost:8080/",
          "height": 336
        },
        "id": "V-A5oXKWm-8Q",
        "outputId": "07040c99-dbc0-487c-fe4f-21d9d9b8b0cf"
      },
      "source": [
        "import matplotlib.pyplot as plt\n",
        "\n",
        "def plot_history(history):\n",
        "    plt.figure(figsize=(19, 6))\n",
        "\n",
        "    # 精度の履歴をプロット\n",
        "    plt.subplot(1, 2, 1)\n",
        "    plt.title('accuracy')\n",
        "    plt.plot(history.history['accuracy'],\"-\",label=\"accuracy\")\n",
        "    plt.plot(history.history['val_accuracy'],\"-\",label=\"val_accuracy\")\n",
        "    plt.xlabel('epoch')\n",
        "    plt.ylabel('accuracy')\n",
        "    plt.legend(loc=\"lower right\")\n",
        " \n",
        "    # 損失の履歴をプロット\n",
        "    plt.subplot(1, 2, 2)\n",
        "    plt.title('loss')\n",
        "    plt.plot(history.history['loss'],\"-\",label=\"loss\",)\n",
        "    plt.plot(history.history['val_loss'],\"-\",label=\"val_loss\")\n",
        "    plt.xlabel('epoch')\n",
        "    plt.ylabel('loss')\n",
        "    plt.legend(loc='upper right')\n",
        "    plt.show()\n",
        "    \n",
        "plot_history(history)"
      ],
      "execution_count": 19,
      "outputs": [
        {
          "output_type": "display_data",
          "data": {
            "image/png": "[encoded data removed]",
            "text/plain": [
              "<Figure size 1368x432 with 2 Axes>"
            ]
          },
          "metadata": {
            "tags": [],
            "needs_background": "light"
          }
        }
      ]
    },
    {
      "cell_type": "code",
      "metadata": {
        "id": "vkPqhci35vEm",
        "colab": {
          "base_uri": "https://localhost:8080/",
          "height": 702
        },
        "outputId": "e0484dba-4afb-4bca-f019-781e39599dbc"
      },
      "source": [
        "import math\n",
        "import cv2 as cv\n",
        "import numpy as np\n",
        "\n",
        "def draw_images(images):\n",
        "    column = 6\n",
        "    row = math.ceil(len(images) / column)\n",
        "\n",
        "    plt.figure(figsize=(16, 11))\n",
        "    plt.subplots_adjust(wspace=0.4, hspace=0.6)\n",
        "\n",
        "    for i, image in enumerate(images):\n",
        "        debug_image = cv.imread(image[1])\n",
        "        \n",
        "        plt.subplot(row, column, i+1)\n",
        "        plt.title(str(image[0]), fontsize=10) \n",
        "        plt.tick_params(color='white')\n",
        "        plt.tick_params(labelbottom=False, labelleft=False, labelright=False, labeltop=False)\n",
        "        plt.imshow(cv.cvtColor(debug_image, cv.COLOR_BGR2RGB))\n",
        "        plt.xlabel('', fontsize=15)\n",
        "        plt.ylabel('', rotation=0, fontsize=15, labelpad=20)\n",
        "\n",
        "    plt.show()\n",
        "\n",
        "Y_pred = model.predict_generator(validation_data_gen)\n",
        "y_pred = np.argmax(Y_pred, axis=1)\n",
        "\n",
        "incorrect_numbers = []\n",
        "for true_num, pred_num, filepath in zip(validation_data_gen.classes, y_pred, validation_data_gen.filepaths):\n",
        "    if true_num != pred_num:\n",
        "        if pred_num == 10:\n",
        "            incorrect_numbers.append(['-(10)', filepath])\n",
        "        elif pred_num == 11:\n",
        "            incorrect_numbers.append(['N(11)', filepath])\n",
        "        else:\n",
        "            incorrect_numbers.append([pred_num, filepath])\n",
        "\n",
        "draw_images(incorrect_numbers)"
      ],
      "execution_count": 20,
      "outputs": [
        {
          "output_type": "stream",
          "text": [
            "/usr/local/lib/python3.7/dist-packages/tensorflow/python/keras/engine/training.py:2001: UserWarning: `Model.predict_generator` is deprecated and will be removed in a future version. Please use `Model.predict`, which supports generators.\n",
            "  warnings.warn('`Model.predict_generator` is deprecated and '\n"
          ],
          "name": "stderr"
        },
        {
          "output_type": "display_data",
          "data": {
            "image/png": "[encoded data removed]",
            "text/plain": [
              "<Figure size 1152x792 with 64 Axes>"
            ]
          },
          "metadata": {
            "tags": []
          }
        }
      ]
    },
    {
      "cell_type": "markdown",
      "metadata": {
        "id": "nobuI67-nNIa"
      },
      "source": [
        "# XXXXXXXX"
      ]
    },
    {
      "cell_type": "code",
      "metadata": {
        "id": "0WJrVLWjfwlD"
      },
      "source": [
        "model_path = 'checkpoints/weights.hdf5'\n",
        "load_model = tf.keras.models.load_model(model_path)"
      ],
      "execution_count": 24,
      "outputs": []
    },
    {
      "cell_type": "code",
      "metadata": {
        "id": "7-7-0FsWfzcb",
        "colab": {
          "base_uri": "https://localhost:8080/",
          "height": 113
        },
        "outputId": "7d8a7bef-e132-4912-82ea-e4af15e9c8d0"
      },
      "source": [
        "from IPython.display import Image, display_png\n",
        "from tensorflow.keras.preprocessing.image import img_to_array, load_img\n",
        "\n",
        "test_image = tf.keras.preprocessing.image.load_img('./validation/07/00007004.jpg', target_size=(96, 96))\n",
        "\n",
        "display_png(test_image)"
      ],
      "execution_count": 25,
      "outputs": [
        {
          "output_type": "display_data",
          "data": {
            "image/png": "[encoded data removed]"
          },
          "metadata": {
            "tags": []
          }
        }
      ]
    },
    {
      "cell_type": "code",
      "metadata": {
        "id": "626vf3v-f9ip"
      },
      "source": [
        "test_image = img_to_array(test_image)\n",
        "test_image = test_image.reshape(-1, 96, 96, 3)\n",
        "test_image = test_image.astype('float32')\n",
        "test_image = test_image * 1.0/255"
      ],
      "execution_count": 26,
      "outputs": []
    },
    {
      "cell_type": "code",
      "metadata": {
        "id": "HzWRiagzgErP"
      },
      "source": [
        "predict_result = load_model.predict(test_image)"
      ],
      "execution_count": 27,
      "outputs": []
    },
    {
      "cell_type": "code",
      "metadata": {
        "id": "BKPp53MGgHbB",
        "colab": {
          "base_uri": "https://localhost:8080/"
        },
        "outputId": "f6c2a4a6-d2cb-4c30-8f71-9f854385f2c0"
      },
      "source": [
        "print(np.squeeze(predict_result))\n",
        "print(np.argmax(np.squeeze(predict_result)))"
      ],
      "execution_count": 28,
      "outputs": [
        {
          "output_type": "stream",
          "text": [
            "[9.68513064e-07 1.13347983e-06 2.67614155e-07 2.08261834e-08\n",
            " 6.09713766e-07 2.01829273e-08 4.41291625e-08 9.99996901e-01\n",
            " 1.34161136e-08 5.49061134e-08 5.93532556e-09 6.50132463e-08]\n",
            "7\n"
          ],
          "name": "stdout"
        }
      ]
    },
    {
      "cell_type": "markdown",
      "metadata": {
        "id": "CoKU33ndduuK"
      },
      "source": [
        "# XXXXXXXX"
      ]
    },
    {
      "cell_type": "code",
      "metadata": {
        "id": "UhC5NGAsfKNA",
        "colab": {
          "base_uri": "https://localhost:8080/"
        },
        "outputId": "f9fc0e2c-9799-47b8-8998-f6a7066b742b"
      },
      "source": [
        "load_model.save('7seg_classifier.hdf5', include_optimizer=False)"
      ],
      "execution_count": 29,
      "outputs": [
        {
          "output_type": "stream",
          "text": [
            "/usr/local/lib/python3.7/dist-packages/tensorflow/python/keras/utils/generic_utils.py:497: CustomMaskWarning: Custom mask layers require a config and must override get_config. When loading, the custom mask layer must be passed to the custom_objects argument.\n",
            "  category=CustomMaskWarning)\n"
          ],
          "name": "stderr"
        }
      ]
    },
    {
      "cell_type": "code",
      "metadata": {
        "id": "9dMZ3BSAfL0G",
        "colab": {
          "base_uri": "https://localhost:8080/"
        },
        "outputId": "4e1d4282-3dc6-4577-f646-f59b3345acbb"
      },
      "source": [
        "converter = tf.lite.TFLiteConverter.from_keras_model(model)\n",
        "converter.optimizations = [tf.lite.Optimize.DEFAULT]\n",
        "tflite_quantized_model = converter.convert()\n",
        "\n",
        "open('7seg_classifier.tflite', 'wb').write(tflite_quantized_model)"
      ],
      "execution_count": 30,
      "outputs": [
        {
          "output_type": "stream",
          "text": [
            "/usr/local/lib/python3.7/dist-packages/tensorflow/python/keras/utils/generic_utils.py:497: CustomMaskWarning: Custom mask layers require a config and must override get_config. When loading, the custom mask layer must be passed to the custom_objects argument.\n",
            "  category=CustomMaskWarning)\n"
          ],
          "name": "stderr"
        },
        {
          "output_type": "stream",
          "text": [
            "INFO:tensorflow:Assets written to: /tmp/tmp8r4ev7u1/assets\n"
          ],
          "name": "stdout"
        },
        {
          "output_type": "execute_result",
          "data": {
            "text/plain": [
              "2654048"
            ]
          },
          "metadata": {
            "tags": []
          },
          "execution_count": 30
        }
      ]
    },
    {
      "cell_type": "markdown",
      "metadata": {
        "id": "655A6qhXLenW"
      },
      "source": [
        "# XXXXXXXX"
      ]
    },
    {
      "cell_type": "code",
      "metadata": {
        "id": "4t0id7YgfQ5b"
      },
      "source": [
        "interpreter = tf.lite.Interpreter(model_path=\"7seg_classifier.tflite\")\n",
        "interpreter.allocate_tensors()"
      ],
      "execution_count": 31,
      "outputs": []
    },
    {
      "cell_type": "code",
      "metadata": {
        "id": "I5zdSj-nfSdn",
        "colab": {
          "base_uri": "https://localhost:8080/"
        },
        "outputId": "c1bd7d32-48ad-4dd0-bd7f-618e78a7f2dd"
      },
      "source": [
        "input_details = interpreter.get_input_details()\n",
        "output_details = interpreter.get_output_details()\n",
        "print(input_details)\n",
        "print(output_details)"
      ],
      "execution_count": 32,
      "outputs": [
        {
          "output_type": "stream",
          "text": [
            "[{'name': 'input_1', 'index': 0, 'shape': array([ 1, 96, 96,  3], dtype=int32), 'shape_signature': array([-1, 96, 96,  3], dtype=int32), 'dtype': <class 'numpy.float32'>, 'quantization': (0.0, 0), 'quantization_parameters': {'scales': array([], dtype=float32), 'zero_points': array([], dtype=int32), 'quantized_dimension': 0}, 'sparsity_parameters': {}}]\n",
            "[{'name': 'Identity', 'index': 177, 'shape': array([ 1, 12], dtype=int32), 'shape_signature': array([-1, 12], dtype=int32), 'dtype': <class 'numpy.float32'>, 'quantization': (0.0, 0), 'quantization_parameters': {'scales': array([], dtype=float32), 'zero_points': array([], dtype=int32), 'quantized_dimension': 0}, 'sparsity_parameters': {}}]\n"
          ],
          "name": "stdout"
        }
      ]
    },
    {
      "cell_type": "code",
      "metadata": {
        "id": "diQuS7EZfUjZ"
      },
      "source": [
        "interpreter.set_tensor(input_details[0]['index'], test_image)\n",
        "interpreter.invoke()"
      ],
      "execution_count": 33,
      "outputs": []
    },
    {
      "cell_type": "code",
      "metadata": {
        "id": "09prFVlpfXBj"
      },
      "source": [
        "tflite_results = interpreter.get_tensor(output_details[0]['index'])"
      ],
      "execution_count": 34,
      "outputs": []
    },
    {
      "cell_type": "code",
      "metadata": {
        "id": "fy1t99p9fayG",
        "colab": {
          "base_uri": "https://localhost:8080/"
        },
        "outputId": "f3956daa-f495-4ce4-eeb2-9b0a7d5bdb26"
      },
      "source": [
        "print(np.squeeze(tflite_results))\n",
        "print(np.argmax(np.squeeze(tflite_results)))"
      ],
      "execution_count": 35,
      "outputs": [
        {
          "output_type": "stream",
          "text": [
            "[1.6531299e-06 2.5340339e-06 6.9294214e-07 6.3276673e-08 8.9497115e-07\n",
            " 4.4096364e-08 7.8152802e-08 9.9999356e-01 3.0634101e-08 1.0500394e-07\n",
            " 1.5097504e-08 2.5797399e-07]\n",
            "7\n"
          ],
          "name": "stdout"
        }
      ]
    }
  ]
}