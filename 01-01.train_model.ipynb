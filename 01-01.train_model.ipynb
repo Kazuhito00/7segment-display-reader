{
  "nbformat": 4,
  "nbformat_minor": 0,
  "metadata": {
    "accelerator": "GPU",
    "colab": {
      "name": "01-01.train_model.ipynb",
      "provenance": [],
      "collapsed_sections": []
    },
    "kernelspec": {
      "display_name": "Python 3",
      "name": "python3"
    }
  },
  "cells": [
    {
      "cell_type": "markdown",
      "metadata": {
        "id": "Y7Oh08yAhHwT"
      },
      "source": [
        "# XXXXXXXX"
      ]
    },
    {
      "cell_type": "code",
      "metadata": {
        "id": "_OwRCliygZBI",
        "colab": {
          "base_uri": "https://localhost:8080/"
        },
        "outputId": "17625988-2af8-44d8-8af8-57727b83bd73"
      },
      "source": [
        "!git clone https://github.com/Kazuhito00/7-segment-display-reader"
      ],
      "execution_count": 1,
      "outputs": [
        {
          "output_type": "stream",
          "name": "stdout",
          "text": [
            "Cloning into '7-segment-display-reader'...\n",
            "remote: Enumerating objects: 21908, done.\u001b[K\n",
            "remote: Counting objects: 100% (21908/21908), done.\u001b[K\n",
            "remote: Compressing objects: 100% (21889/21889), done.\u001b[K\n",
            "remote: Total 21908 (delta 39), reused 21869 (delta 16), pack-reused 0\u001b[K\n",
            "Receiving objects: 100% (21908/21908), 62.92 MiB | 30.55 MiB/s, done.\n",
            "Resolving deltas: 100% (39/39), done.\n",
            "Checking out files: 100% (42000/42000), done.\n"
          ]
        }
      ]
    },
    {
      "cell_type": "markdown",
      "metadata": {
        "id": "B6iLw5KChHAk"
      },
      "source": [
        "# XXXXXXXX"
      ]
    },
    {
      "cell_type": "code",
      "metadata": {
        "colab": {
          "base_uri": "https://localhost:8080/"
        },
        "id": "8hJhtoVbtXtc",
        "outputId": "5e72a94c-b69f-4f30-ed27-d5902ab7043e"
      },
      "source": [
        "!git clone https://github.com/Kazuhito00/7seg-image-generator.git"
      ],
      "execution_count": 2,
      "outputs": [
        {
          "output_type": "stream",
          "name": "stdout",
          "text": [
            "Cloning into '7seg-image-generator'...\n",
            "remote: Enumerating objects: 45, done.\u001b[K\n",
            "remote: Counting objects: 100% (45/45), done.\u001b[K\n",
            "remote: Compressing objects: 100% (36/36), done.\u001b[K\n",
            "remote: Total 45 (delta 21), reused 20 (delta 6), pack-reused 0\u001b[K\n",
            "Unpacking objects: 100% (45/45), done.\n"
          ]
        }
      ]
    },
    {
      "cell_type": "code",
      "metadata": {
        "colab": {
          "base_uri": "https://localhost:8080/"
        },
        "id": "UjwC9CxN2fwZ",
        "outputId": "ab6735e3-ab6c-468e-8ff0-a417bdc5d3e7"
      },
      "source": [
        "!python '7seg-image-generator/create_7segment_dataset_da(easy).py' \\\n",
        "    --erase_debug_window \\\n",
        "    --steps=4000 \\\n",
        "    --start_count=10000000"
      ],
      "execution_count": 3,
      "outputs": [
        {
          "output_type": "stream",
          "name": "stdout",
          "text": [
            "100% 4000/4000 [00:37<00:00, 107.80it/s]\n"
          ]
        }
      ]
    },
    {
      "cell_type": "markdown",
      "metadata": {
        "id": "A3-dkAwMia4v"
      },
      "source": [
        "# XXXXXXXX"
      ]
    },
    {
      "cell_type": "code",
      "metadata": {
        "id": "k0rX5nAe9hTO"
      },
      "source": [
        "%cp -rf './7-segment-display-reader/01.dataset/00' './dataset'\n",
        "%cp -rf './7-segment-display-reader/01.dataset/01' './dataset'\n",
        "%cp -rf './7-segment-display-reader/01.dataset/02' './dataset'\n",
        "%cp -rf './7-segment-display-reader/01.dataset/03' './dataset'\n",
        "%cp -rf './7-segment-display-reader/01.dataset/04' './dataset'\n",
        "%cp -rf './7-segment-display-reader/01.dataset/05' './dataset'\n",
        "%cp -rf './7-segment-display-reader/01.dataset/06' './dataset'\n",
        "%cp -rf './7-segment-display-reader/01.dataset/07' './dataset'\n",
        "%cp -rf './7-segment-display-reader/01.dataset/08' './dataset'\n",
        "%cp -rf './7-segment-display-reader/01.dataset/09' './dataset'\n",
        "%cp -rf './7-segment-display-reader/01.dataset/11' './dataset'"
      ],
      "execution_count": 4,
      "outputs": []
    },
    {
      "cell_type": "markdown",
      "metadata": {
        "id": "BUuk1DIvifE7"
      },
      "source": [
        "# XXXXXXXX"
      ]
    },
    {
      "cell_type": "code",
      "metadata": {
        "id": "tJo-iE4twmkr"
      },
      "source": [
        "import os\n",
        "\n",
        "dataset_directory = './dataset'\n",
        "train_directory = './train'\n",
        "validation_directory = './validation'\n",
        "\n",
        "# 学習データ格納ディレクトリ作成　※「dataset_directory」と同様の構成\n",
        "for dir_path in os.listdir(dataset_directory):\n",
        "    os.makedirs(train_directory + '/' + dir_path, exist_ok=True)\n",
        "# 検証データ格納ディレクトリ作成　※「dataset_directory」と同様の構成\n",
        "for dir_path in os.listdir(dataset_directory):\n",
        "    os.makedirs(validation_directory + '/' + dir_path, exist_ok=True)"
      ],
      "execution_count": 5,
      "outputs": []
    },
    {
      "cell_type": "code",
      "metadata": {
        "id": "CRiXbfC2hRg7"
      },
      "source": [
        "import os\n",
        "import random\n",
        "\n",
        "import numpy as np\n",
        "import tensorflow as tf\n",
        "\n",
        "seed = 42\n",
        "\n",
        "random.seed(seed)\n",
        "np.random.seed(seed)\n",
        "tf.random.set_seed(seed)\n",
        "os.environ[\"PYTHONHASHSEED\"] = str(seed)"
      ],
      "execution_count": 6,
      "outputs": []
    },
    {
      "cell_type": "code",
      "metadata": {
        "id": "plq6tEfKv6KC"
      },
      "source": [
        "import glob\n",
        "import shutil\n",
        "import random\n",
        "\n",
        "train_ratio = 0.75  # 学習データの割合\n",
        "\n",
        "random.seed(42)\n",
        "\n",
        "# コピー元ディレクトリ取得\n",
        "directory_list = glob.glob(dataset_directory + '/*')\n",
        "for temp_directory in directory_list:\n",
        "    file_list = glob.glob(temp_directory + '/*')\n",
        "\n",
        "    # ディレクトリへコピー\n",
        "    for index, filepath in enumerate(file_list):\n",
        "        if index < int(len(file_list) * train_ratio):\n",
        "            # 学習用データ\n",
        "            shutil.copy2(filepath, train_directory + '/' + os.path.basename(temp_directory))\n",
        "        else:\n",
        "            # 検証用データ\n",
        "            shutil.copy2(filepath, validation_directory + '/' + os.path.basename(temp_directory))"
      ],
      "execution_count": 7,
      "outputs": []
    },
    {
      "cell_type": "markdown",
      "metadata": {
        "id": "v4ugse-pvgxS"
      },
      "source": [
        "# XXXXXXX"
      ]
    },
    {
      "cell_type": "code",
      "metadata": {
        "id": "VAaCp9vO21FS",
        "colab": {
          "base_uri": "https://localhost:8080/"
        },
        "outputId": "b9bd728c-649b-4a97-8082-306a4862c5ff"
      },
      "source": [
        "!pip install -U albumentations"
      ],
      "execution_count": 8,
      "outputs": [
        {
          "output_type": "stream",
          "name": "stdout",
          "text": [
            "Requirement already satisfied: albumentations in /usr/local/lib/python3.7/dist-packages (0.1.12)\n",
            "Collecting albumentations\n",
            "  Downloading albumentations-1.1.0-py3-none-any.whl (102 kB)\n",
            "\u001b[K     |████████████████████████████████| 102 kB 5.2 MB/s \n",
            "\u001b[?25hCollecting opencv-python-headless>=4.1.1\n",
            "  Downloading opencv_python_headless-4.5.4.58-cp37-cp37m-manylinux2014_x86_64.whl (47.6 MB)\n",
            "\u001b[K     |████████████████████████████████| 47.6 MB 49 kB/s \n",
            "\u001b[?25hRequirement already satisfied: PyYAML in /usr/local/lib/python3.7/dist-packages (from albumentations) (3.13)\n",
            "Collecting qudida>=0.0.4\n",
            "  Downloading qudida-0.0.4-py3-none-any.whl (3.5 kB)\n",
            "Requirement already satisfied: numpy>=1.11.1 in /usr/local/lib/python3.7/dist-packages (from albumentations) (1.19.5)\n",
            "Requirement already satisfied: scikit-image>=0.16.1 in /usr/local/lib/python3.7/dist-packages (from albumentations) (0.16.2)\n",
            "Requirement already satisfied: scipy in /usr/local/lib/python3.7/dist-packages (from albumentations) (1.4.1)\n",
            "Requirement already satisfied: typing-extensions in /usr/local/lib/python3.7/dist-packages (from qudida>=0.0.4->albumentations) (3.10.0.2)\n",
            "Requirement already satisfied: scikit-learn>=0.19.1 in /usr/local/lib/python3.7/dist-packages (from qudida>=0.0.4->albumentations) (0.22.2.post1)\n",
            "Requirement already satisfied: PyWavelets>=0.4.0 in /usr/local/lib/python3.7/dist-packages (from scikit-image>=0.16.1->albumentations) (1.2.0)\n",
            "Requirement already satisfied: matplotlib!=3.0.0,>=2.0.0 in /usr/local/lib/python3.7/dist-packages (from scikit-image>=0.16.1->albumentations) (3.2.2)\n",
            "Requirement already satisfied: imageio>=2.3.0 in /usr/local/lib/python3.7/dist-packages (from scikit-image>=0.16.1->albumentations) (2.4.1)\n",
            "Requirement already satisfied: networkx>=2.0 in /usr/local/lib/python3.7/dist-packages (from scikit-image>=0.16.1->albumentations) (2.6.3)\n",
            "Requirement already satisfied: pillow>=4.3.0 in /usr/local/lib/python3.7/dist-packages (from scikit-image>=0.16.1->albumentations) (7.1.2)\n",
            "Requirement already satisfied: cycler>=0.10 in /usr/local/lib/python3.7/dist-packages (from matplotlib!=3.0.0,>=2.0.0->scikit-image>=0.16.1->albumentations) (0.11.0)\n",
            "Requirement already satisfied: pyparsing!=2.0.4,!=2.1.2,!=2.1.6,>=2.0.1 in /usr/local/lib/python3.7/dist-packages (from matplotlib!=3.0.0,>=2.0.0->scikit-image>=0.16.1->albumentations) (2.4.7)\n",
            "Requirement already satisfied: kiwisolver>=1.0.1 in /usr/local/lib/python3.7/dist-packages (from matplotlib!=3.0.0,>=2.0.0->scikit-image>=0.16.1->albumentations) (1.3.2)\n",
            "Requirement already satisfied: python-dateutil>=2.1 in /usr/local/lib/python3.7/dist-packages (from matplotlib!=3.0.0,>=2.0.0->scikit-image>=0.16.1->albumentations) (2.8.2)\n",
            "Requirement already satisfied: six>=1.5 in /usr/local/lib/python3.7/dist-packages (from python-dateutil>=2.1->matplotlib!=3.0.0,>=2.0.0->scikit-image>=0.16.1->albumentations) (1.15.0)\n",
            "Requirement already satisfied: joblib>=0.11 in /usr/local/lib/python3.7/dist-packages (from scikit-learn>=0.19.1->qudida>=0.0.4->albumentations) (1.1.0)\n",
            "Installing collected packages: opencv-python-headless, qudida, albumentations\n",
            "  Attempting uninstall: albumentations\n",
            "    Found existing installation: albumentations 0.1.12\n",
            "    Uninstalling albumentations-0.1.12:\n",
            "      Successfully uninstalled albumentations-0.1.12\n",
            "Successfully installed albumentations-1.1.0 opencv-python-headless-4.5.4.58 qudida-0.0.4\n"
          ]
        }
      ]
    },
    {
      "cell_type": "code",
      "metadata": {
        "id": "8i5VFmLy20WF"
      },
      "source": [
        "# Albumentationsを用いたデータ拡張設定\n",
        "import albumentations as A\n",
        "\n",
        "def preprocessing_augmentation_function(param_p = 0.0):\n",
        "    transform = [\n",
        "        A.ShiftScaleRotate(shift_limit=0.1, \n",
        "                           scale_limit=0.1, \n",
        "                           rotate_limit=10,\n",
        "                           p=param_p),\n",
        "        A.MotionBlur(blur_limit=15, p=param_p),\n",
        "        A.GlassBlur(sigma=0.15, max_delta=4, iterations=1, p=param_p),\n",
        "        A.RandomBrightnessContrast(brightness_limit=0.2,\n",
        "                                   contrast_limit=0.2,\n",
        "                                   brightness_by_max=True,\n",
        "                                   p=param_p),\n",
        "        A.RGBShift(r_shift_limit=10,\n",
        "                   g_shift_limit=10,\n",
        "                   b_shift_limit=10,\n",
        "                   p=param_p),\n",
        "        A.Cutout(num_holes=8,\n",
        "                 max_h_size=8,\n",
        "                 max_w_size=8,\n",
        "                 fill_value=0,\n",
        "                 p=param_p),\n",
        "        A.Cutout(num_holes=8,\n",
        "                 max_h_size=8,\n",
        "                 max_w_size=8,\n",
        "                 fill_value=255,\n",
        "                 p=param_p),\n",
        "    ]\n",
        "    augmentation_function = A.Compose(transform)\n",
        "\n",
        "    def augmentation(x):\n",
        "        augmentation_image = augmentation_function(image=x)\n",
        "        return augmentation_image['image']\n",
        "\n",
        "    return augmentation"
      ],
      "execution_count": 9,
      "outputs": []
    },
    {
      "cell_type": "code",
      "metadata": {
        "id": "Jha2pIhn3Kum",
        "colab": {
          "base_uri": "https://localhost:8080/"
        },
        "outputId": "fe708f92-fbad-4a5e-9b0c-109b3fe15793"
      },
      "source": [
        "from tensorflow.keras.preprocessing.image import ImageDataGenerator\n",
        "\n",
        "train_image_da_generator = ImageDataGenerator(\n",
        "    rescale=1.0/255,\n",
        "    preprocessing_function=preprocessing_augmentation_function(0.1),\n",
        ")\n",
        "validation_image_generator = ImageDataGenerator(rescale=1.0/255)"
      ],
      "execution_count": 10,
      "outputs": [
        {
          "output_type": "stream",
          "name": "stderr",
          "text": [
            "/usr/local/lib/python3.7/dist-packages/albumentations/augmentations/transforms.py:691: FutureWarning: This class has been deprecated. Please use CoarseDropout\n",
            "  FutureWarning,\n"
          ]
        }
      ]
    },
    {
      "cell_type": "code",
      "metadata": {
        "id": "PwigwiYUaWBO",
        "colab": {
          "base_uri": "https://localhost:8080/"
        },
        "outputId": "bbe0de79-a88d-4212-b2ef-9562e051d27e"
      },
      "source": [
        "batch_size = 64\n",
        "image_height, image_width = 96, 96\n",
        "\n",
        "train_data_gen = train_image_da_generator.flow_from_directory(\n",
        "    batch_size=batch_size,\n",
        "    directory=train_directory,\n",
        "    shuffle=True,\n",
        "    target_size=(image_height, image_width),\n",
        "    class_mode='categorical'\n",
        ")\n",
        "validation_data_gen = validation_image_generator.flow_from_directory(\n",
        "    batch_size=batch_size,\n",
        "    directory=validation_directory,\n",
        "    shuffle=False,\n",
        "    target_size=(image_height, image_width),\n",
        "    class_mode='categorical'\n",
        ")"
      ],
      "execution_count": 11,
      "outputs": [
        {
          "output_type": "stream",
          "name": "stdout",
          "text": [
            "Found 67490 images belonging to 12 classes.\n",
            "Found 22500 images belonging to 12 classes.\n"
          ]
        }
      ]
    },
    {
      "cell_type": "code",
      "metadata": {
        "id": "v7Flgo8v3Y0w",
        "colab": {
          "base_uri": "https://localhost:8080/"
        },
        "outputId": "172752d3-7b35-45d3-fd28-2c40a3ced4f1"
      },
      "source": [
        "base_model = tf.keras.applications.MobileNetV2(include_top=False, weights='imagenet', input_shape=(96, 96, 3), alpha=0.35)\n",
        "\n",
        "base_model.trainable = True\n",
        "\n",
        "x = tf.keras.layers.GlobalAveragePooling2D()(base_model.output)\n",
        "output = tf.keras.layers.Dense(12, activation='softmax', name='last_output')(x)\n",
        "model = tf.keras.Model(inputs=base_model.inputs, outputs=output, name='model')\n",
        "\n",
        "model.compile(\n",
        "    optimizer='sgd',\n",
        "    loss='categorical_crossentropy',\n",
        "    metrics=['accuracy']\n",
        ")"
      ],
      "execution_count": 12,
      "outputs": [
        {
          "output_type": "stream",
          "name": "stdout",
          "text": [
            "Downloading data from https://storage.googleapis.com/tensorflow/keras-applications/mobilenet_v2/mobilenet_v2_weights_tf_dim_ordering_tf_kernels_0.35_96_no_top.h5\n",
            "2023424/2019640 [==============================] - 0s 0us/step\n",
            "2031616/2019640 [==============================] - 0s 0us/step\n"
          ]
        }
      ]
    },
    {
      "cell_type": "code",
      "metadata": {
        "id": "MIrx4g4V4Zdi"
      },
      "source": [
        "# モデルチェックポイント保存用コールバック\n",
        "checkpoint_path = os.path.join(os.getcwd(), 'checkpoints', 'weights.hdf5')\n",
        "cp_callback = tf.keras.callbacks.ModelCheckpoint(\n",
        "    checkpoint_path, \n",
        "    verbose=1, \n",
        "    save_best_only=True,\n",
        "    mode='auto',\n",
        "    save_weights_only=False, \n",
        "    save_freq='epoch'\n",
        ")\n",
        "\n",
        "# 評価値の改善が見られない場合に学習率を減らすコールバック\n",
        "lrp_callback = tf.keras.callbacks.ReduceLROnPlateau(monitor='val_loss', factor=0.1, patience=5, verbose=1)\n",
        "\n",
        "# 早期打ち切り用コールバック\n",
        "es_callback = tf.keras.callbacks.EarlyStopping(monitor='val_loss', patience=10, verbose=1) "
      ],
      "execution_count": 13,
      "outputs": []
    },
    {
      "cell_type": "code",
      "metadata": {
        "id": "jV1y-6R63ntD",
        "colab": {
          "base_uri": "https://localhost:8080/"
        },
        "outputId": "6e98b15e-b0e7-412b-9902-f47812d66859"
      },
      "source": [
        "epochs = 100\n",
        "\n",
        "history = model.fit(\n",
        "    train_data_gen,\n",
        "    epochs=epochs,\n",
        "    validation_data=validation_data_gen,\n",
        "    callbacks=[cp_callback, lrp_callback, es_callback]\n",
        ")"
      ],
      "execution_count": 14,
      "outputs": [
        {
          "output_type": "stream",
          "name": "stdout",
          "text": [
            "Epoch 1/100\n",
            "1055/1055 [==============================] - ETA: 0s - loss: 0.7381 - accuracy: 0.7472\n",
            "Epoch 00001: val_loss improved from inf to 1.44679, saving model to /content/checkpoints/weights.hdf5\n"
          ]
        },
        {
          "output_type": "stream",
          "name": "stderr",
          "text": [
            "/usr/local/lib/python3.7/dist-packages/keras/engine/functional.py:1410: CustomMaskWarning: Custom mask layers require a config and must override get_config. When loading, the custom mask layer must be passed to the custom_objects argument.\n",
            "  layer_config = serialize_layer_fn(layer)\n"
          ]
        },
        {
          "output_type": "stream",
          "name": "stdout",
          "text": [
            "1055/1055 [==============================] - 107s 83ms/step - loss: 0.7381 - accuracy: 0.7472 - val_loss: 1.4468 - val_accuracy: 0.6114 - lr: 0.0100\n",
            "Epoch 2/100\n",
            "1055/1055 [==============================] - ETA: 0s - loss: 0.5236 - accuracy: 0.8116\n",
            "Epoch 00002: val_loss improved from 1.44679 to 0.10920, saving model to /content/checkpoints/weights.hdf5\n",
            "1055/1055 [==============================] - 86s 82ms/step - loss: 0.5236 - accuracy: 0.8116 - val_loss: 0.1092 - val_accuracy: 0.9697 - lr: 0.0100\n",
            "Epoch 3/100\n",
            "1055/1055 [==============================] - ETA: 0s - loss: 0.5145 - accuracy: 0.8132\n",
            "Epoch 00003: val_loss improved from 0.10920 to 0.02139, saving model to /content/checkpoints/weights.hdf5\n",
            "1055/1055 [==============================] - 87s 83ms/step - loss: 0.5145 - accuracy: 0.8132 - val_loss: 0.0214 - val_accuracy: 0.9936 - lr: 0.0100\n",
            "Epoch 4/100\n",
            "1055/1055 [==============================] - ETA: 0s - loss: 0.5043 - accuracy: 0.8170\n",
            "Epoch 00004: val_loss did not improve from 0.02139\n",
            "1055/1055 [==============================] - 86s 81ms/step - loss: 0.5043 - accuracy: 0.8170 - val_loss: 0.0273 - val_accuracy: 0.9918 - lr: 0.0100\n",
            "Epoch 5/100\n",
            "1055/1055 [==============================] - ETA: 0s - loss: 0.5004 - accuracy: 0.8177\n",
            "Epoch 00005: val_loss did not improve from 0.02139\n",
            "1055/1055 [==============================] - 86s 81ms/step - loss: 0.5004 - accuracy: 0.8177 - val_loss: 0.0270 - val_accuracy: 0.9913 - lr: 0.0100\n",
            "Epoch 6/100\n",
            "1055/1055 [==============================] - ETA: 0s - loss: 0.4981 - accuracy: 0.8187\n",
            "Epoch 00006: val_loss improved from 0.02139 to 0.02104, saving model to /content/checkpoints/weights.hdf5\n",
            "1055/1055 [==============================] - 87s 82ms/step - loss: 0.4981 - accuracy: 0.8187 - val_loss: 0.0210 - val_accuracy: 0.9936 - lr: 0.0100\n",
            "Epoch 7/100\n",
            "1055/1055 [==============================] - ETA: 0s - loss: 0.4920 - accuracy: 0.8202\n",
            "Epoch 00007: val_loss improved from 0.02104 to 0.01714, saving model to /content/checkpoints/weights.hdf5\n",
            "1055/1055 [==============================] - 85s 81ms/step - loss: 0.4920 - accuracy: 0.8202 - val_loss: 0.0171 - val_accuracy: 0.9944 - lr: 0.0100\n",
            "Epoch 8/100\n",
            "1055/1055 [==============================] - ETA: 0s - loss: 0.4938 - accuracy: 0.8201\n",
            "Epoch 00008: val_loss did not improve from 0.01714\n",
            "1055/1055 [==============================] - 85s 81ms/step - loss: 0.4938 - accuracy: 0.8201 - val_loss: 0.0175 - val_accuracy: 0.9944 - lr: 0.0100\n",
            "Epoch 9/100\n",
            "1055/1055 [==============================] - ETA: 0s - loss: 0.4915 - accuracy: 0.8205\n",
            "Epoch 00009: val_loss improved from 0.01714 to 0.01477, saving model to /content/checkpoints/weights.hdf5\n",
            "1055/1055 [==============================] - 86s 81ms/step - loss: 0.4915 - accuracy: 0.8205 - val_loss: 0.0148 - val_accuracy: 0.9956 - lr: 0.0100\n",
            "Epoch 10/100\n",
            "1055/1055 [==============================] - ETA: 0s - loss: 0.4878 - accuracy: 0.8216\n",
            "Epoch 00010: val_loss improved from 0.01477 to 0.01424, saving model to /content/checkpoints/weights.hdf5\n",
            "1055/1055 [==============================] - 86s 82ms/step - loss: 0.4878 - accuracy: 0.8216 - val_loss: 0.0142 - val_accuracy: 0.9957 - lr: 0.0100\n",
            "Epoch 11/100\n",
            "1055/1055 [==============================] - ETA: 0s - loss: 0.4879 - accuracy: 0.8213\n",
            "Epoch 00011: val_loss did not improve from 0.01424\n",
            "1055/1055 [==============================] - 86s 81ms/step - loss: 0.4879 - accuracy: 0.8213 - val_loss: 0.0149 - val_accuracy: 0.9953 - lr: 0.0100\n",
            "Epoch 12/100\n",
            "1055/1055 [==============================] - ETA: 0s - loss: 0.4886 - accuracy: 0.8208\n",
            "Epoch 00012: val_loss improved from 0.01424 to 0.01256, saving model to /content/checkpoints/weights.hdf5\n",
            "1055/1055 [==============================] - 86s 82ms/step - loss: 0.4886 - accuracy: 0.8208 - val_loss: 0.0126 - val_accuracy: 0.9959 - lr: 0.0100\n",
            "Epoch 13/100\n",
            "1055/1055 [==============================] - ETA: 0s - loss: 0.4882 - accuracy: 0.8211\n",
            "Epoch 00013: val_loss did not improve from 0.01256\n",
            "1055/1055 [==============================] - 86s 81ms/step - loss: 0.4882 - accuracy: 0.8211 - val_loss: 0.0130 - val_accuracy: 0.9961 - lr: 0.0100\n",
            "Epoch 14/100\n",
            "1055/1055 [==============================] - ETA: 0s - loss: 0.4904 - accuracy: 0.8207\n",
            "Epoch 00014: val_loss improved from 0.01256 to 0.01226, saving model to /content/checkpoints/weights.hdf5\n",
            "1055/1055 [==============================] - 86s 81ms/step - loss: 0.4904 - accuracy: 0.8207 - val_loss: 0.0123 - val_accuracy: 0.9964 - lr: 0.0100\n",
            "Epoch 15/100\n",
            "1055/1055 [==============================] - ETA: 0s - loss: 0.4804 - accuracy: 0.8237\n",
            "Epoch 00015: val_loss improved from 0.01226 to 0.01202, saving model to /content/checkpoints/weights.hdf5\n",
            "1055/1055 [==============================] - 86s 82ms/step - loss: 0.4804 - accuracy: 0.8237 - val_loss: 0.0120 - val_accuracy: 0.9966 - lr: 0.0100\n",
            "Epoch 16/100\n",
            "1055/1055 [==============================] - ETA: 0s - loss: 0.4769 - accuracy: 0.8242\n",
            "Epoch 00016: val_loss did not improve from 0.01202\n",
            "1055/1055 [==============================] - 86s 81ms/step - loss: 0.4769 - accuracy: 0.8242 - val_loss: 0.0140 - val_accuracy: 0.9960 - lr: 0.0100\n",
            "Epoch 17/100\n",
            "1055/1055 [==============================] - ETA: 0s - loss: 0.4859 - accuracy: 0.8220\n",
            "Epoch 00017: val_loss improved from 0.01202 to 0.01174, saving model to /content/checkpoints/weights.hdf5\n",
            "1055/1055 [==============================] - 86s 82ms/step - loss: 0.4859 - accuracy: 0.8220 - val_loss: 0.0117 - val_accuracy: 0.9965 - lr: 0.0100\n",
            "Epoch 18/100\n",
            "1055/1055 [==============================] - ETA: 0s - loss: 0.4819 - accuracy: 0.8239\n",
            "Epoch 00018: val_loss improved from 0.01174 to 0.01157, saving model to /content/checkpoints/weights.hdf5\n",
            "1055/1055 [==============================] - 86s 82ms/step - loss: 0.4819 - accuracy: 0.8239 - val_loss: 0.0116 - val_accuracy: 0.9963 - lr: 0.0100\n",
            "Epoch 19/100\n",
            "1055/1055 [==============================] - ETA: 0s - loss: 0.4821 - accuracy: 0.8237\n",
            "Epoch 00019: val_loss did not improve from 0.01157\n",
            "1055/1055 [==============================] - 86s 81ms/step - loss: 0.4821 - accuracy: 0.8237 - val_loss: 0.0122 - val_accuracy: 0.9963 - lr: 0.0100\n",
            "Epoch 20/100\n",
            "1055/1055 [==============================] - ETA: 0s - loss: 0.4833 - accuracy: 0.8226\n",
            "Epoch 00020: val_loss did not improve from 0.01157\n",
            "1055/1055 [==============================] - 86s 81ms/step - loss: 0.4833 - accuracy: 0.8226 - val_loss: 0.0134 - val_accuracy: 0.9962 - lr: 0.0100\n",
            "Epoch 21/100\n",
            "1055/1055 [==============================] - ETA: 0s - loss: 0.4858 - accuracy: 0.8216\n",
            "Epoch 00021: val_loss did not improve from 0.01157\n",
            "1055/1055 [==============================] - 86s 82ms/step - loss: 0.4858 - accuracy: 0.8216 - val_loss: 0.0130 - val_accuracy: 0.9963 - lr: 0.0100\n",
            "Epoch 22/100\n",
            "1055/1055 [==============================] - ETA: 0s - loss: 0.4791 - accuracy: 0.8239\n",
            "Epoch 00022: val_loss did not improve from 0.01157\n",
            "1055/1055 [==============================] - 85s 81ms/step - loss: 0.4791 - accuracy: 0.8239 - val_loss: 0.0124 - val_accuracy: 0.9961 - lr: 0.0100\n",
            "Epoch 23/100\n",
            "1055/1055 [==============================] - ETA: 0s - loss: 0.4781 - accuracy: 0.8246\n",
            "Epoch 00023: val_loss did not improve from 0.01157\n",
            "\n",
            "Epoch 00023: ReduceLROnPlateau reducing learning rate to 0.0009999999776482583.\n",
            "1055/1055 [==============================] - 86s 81ms/step - loss: 0.4781 - accuracy: 0.8246 - val_loss: 0.0116 - val_accuracy: 0.9963 - lr: 0.0100\n",
            "Epoch 24/100\n",
            "1055/1055 [==============================] - ETA: 0s - loss: 0.4764 - accuracy: 0.8255\n",
            "Epoch 00024: val_loss improved from 0.01157 to 0.01121, saving model to /content/checkpoints/weights.hdf5\n",
            "1055/1055 [==============================] - 85s 81ms/step - loss: 0.4764 - accuracy: 0.8255 - val_loss: 0.0112 - val_accuracy: 0.9966 - lr: 1.0000e-03\n",
            "Epoch 25/100\n",
            "1055/1055 [==============================] - ETA: 0s - loss: 0.4754 - accuracy: 0.8263\n",
            "Epoch 00025: val_loss improved from 0.01121 to 0.01107, saving model to /content/checkpoints/weights.hdf5\n",
            "1055/1055 [==============================] - 85s 81ms/step - loss: 0.4754 - accuracy: 0.8263 - val_loss: 0.0111 - val_accuracy: 0.9967 - lr: 1.0000e-03\n",
            "Epoch 26/100\n",
            "1055/1055 [==============================] - ETA: 0s - loss: 0.4748 - accuracy: 0.8258\n",
            "Epoch 00026: val_loss did not improve from 0.01107\n",
            "1055/1055 [==============================] - 85s 81ms/step - loss: 0.4748 - accuracy: 0.8258 - val_loss: 0.0112 - val_accuracy: 0.9968 - lr: 1.0000e-03\n",
            "Epoch 27/100\n",
            "1055/1055 [==============================] - ETA: 0s - loss: 0.4844 - accuracy: 0.8226\n",
            "Epoch 00027: val_loss did not improve from 0.01107\n",
            "1055/1055 [==============================] - 86s 81ms/step - loss: 0.4844 - accuracy: 0.8226 - val_loss: 0.0113 - val_accuracy: 0.9969 - lr: 1.0000e-03\n",
            "Epoch 28/100\n",
            "1055/1055 [==============================] - ETA: 0s - loss: 0.4832 - accuracy: 0.8223\n",
            "Epoch 00028: val_loss did not improve from 0.01107\n",
            "1055/1055 [==============================] - 85s 81ms/step - loss: 0.4832 - accuracy: 0.8223 - val_loss: 0.0111 - val_accuracy: 0.9969 - lr: 1.0000e-03\n",
            "Epoch 29/100\n",
            "1055/1055 [==============================] - ETA: 0s - loss: 0.4757 - accuracy: 0.8256\n",
            "Epoch 00029: val_loss did not improve from 0.01107\n",
            "1055/1055 [==============================] - 85s 81ms/step - loss: 0.4757 - accuracy: 0.8256 - val_loss: 0.0111 - val_accuracy: 0.9970 - lr: 1.0000e-03\n",
            "Epoch 30/100\n",
            "1055/1055 [==============================] - ETA: 0s - loss: 0.4807 - accuracy: 0.8234\n",
            "Epoch 00030: val_loss improved from 0.01107 to 0.01102, saving model to /content/checkpoints/weights.hdf5\n",
            "\n",
            "Epoch 00030: ReduceLROnPlateau reducing learning rate to 9.999999310821295e-05.\n",
            "1055/1055 [==============================] - 87s 82ms/step - loss: 0.4807 - accuracy: 0.8234 - val_loss: 0.0110 - val_accuracy: 0.9968 - lr: 1.0000e-03\n",
            "Epoch 31/100\n",
            "1055/1055 [==============================] - ETA: 0s - loss: 0.4774 - accuracy: 0.8245\n",
            "Epoch 00031: val_loss did not improve from 0.01102\n",
            "1055/1055 [==============================] - 86s 82ms/step - loss: 0.4774 - accuracy: 0.8245 - val_loss: 0.0110 - val_accuracy: 0.9969 - lr: 1.0000e-04\n",
            "Epoch 32/100\n",
            "1055/1055 [==============================] - ETA: 0s - loss: 0.4697 - accuracy: 0.8281\n",
            "Epoch 00032: val_loss did not improve from 0.01102\n",
            "1055/1055 [==============================] - 86s 82ms/step - loss: 0.4697 - accuracy: 0.8281 - val_loss: 0.0110 - val_accuracy: 0.9968 - lr: 1.0000e-04\n",
            "Epoch 33/100\n",
            "1055/1055 [==============================] - ETA: 0s - loss: 0.4766 - accuracy: 0.8251\n",
            "Epoch 00033: val_loss improved from 0.01102 to 0.01101, saving model to /content/checkpoints/weights.hdf5\n",
            "1055/1055 [==============================] - 86s 82ms/step - loss: 0.4766 - accuracy: 0.8251 - val_loss: 0.0110 - val_accuracy: 0.9969 - lr: 1.0000e-04\n",
            "Epoch 34/100\n",
            "1055/1055 [==============================] - ETA: 0s - loss: 0.4801 - accuracy: 0.8246\n",
            "Epoch 00034: val_loss did not improve from 0.01101\n",
            "1055/1055 [==============================] - 86s 81ms/step - loss: 0.4801 - accuracy: 0.8246 - val_loss: 0.0110 - val_accuracy: 0.9969 - lr: 1.0000e-04\n",
            "Epoch 35/100\n",
            "1055/1055 [==============================] - ETA: 0s - loss: 0.4782 - accuracy: 0.8254\n",
            "Epoch 00035: val_loss did not improve from 0.01101\n",
            "\n",
            "Epoch 00035: ReduceLROnPlateau reducing learning rate to 9.999999019782991e-06.\n",
            "1055/1055 [==============================] - 86s 81ms/step - loss: 0.4782 - accuracy: 0.8254 - val_loss: 0.0110 - val_accuracy: 0.9969 - lr: 1.0000e-04\n",
            "Epoch 36/100\n",
            "1055/1055 [==============================] - ETA: 0s - loss: 0.4758 - accuracy: 0.8257\n",
            "Epoch 00036: val_loss did not improve from 0.01101\n",
            "1055/1055 [==============================] - 86s 82ms/step - loss: 0.4758 - accuracy: 0.8257 - val_loss: 0.0110 - val_accuracy: 0.9969 - lr: 1.0000e-05\n",
            "Epoch 37/100\n",
            "1055/1055 [==============================] - ETA: 0s - loss: 0.4781 - accuracy: 0.8247\n",
            "Epoch 00037: val_loss did not improve from 0.01101\n",
            "1055/1055 [==============================] - 86s 81ms/step - loss: 0.4781 - accuracy: 0.8247 - val_loss: 0.0110 - val_accuracy: 0.9969 - lr: 1.0000e-05\n",
            "Epoch 38/100\n",
            "1055/1055 [==============================] - ETA: 0s - loss: 0.4810 - accuracy: 0.8237\n",
            "Epoch 00038: val_loss did not improve from 0.01101\n",
            "1055/1055 [==============================] - 86s 81ms/step - loss: 0.4810 - accuracy: 0.8237 - val_loss: 0.0110 - val_accuracy: 0.9969 - lr: 1.0000e-05\n",
            "Epoch 39/100\n",
            "1055/1055 [==============================] - ETA: 0s - loss: 0.4773 - accuracy: 0.8243\n",
            "Epoch 00039: val_loss did not improve from 0.01101\n",
            "1055/1055 [==============================] - 86s 81ms/step - loss: 0.4773 - accuracy: 0.8243 - val_loss: 0.0110 - val_accuracy: 0.9969 - lr: 1.0000e-05\n",
            "Epoch 40/100\n",
            "1055/1055 [==============================] - ETA: 0s - loss: 0.4791 - accuracy: 0.8240\n",
            "Epoch 00040: val_loss did not improve from 0.01101\n",
            "\n",
            "Epoch 00040: ReduceLROnPlateau reducing learning rate to 9.99999883788405e-07.\n",
            "1055/1055 [==============================] - 86s 81ms/step - loss: 0.4791 - accuracy: 0.8240 - val_loss: 0.0110 - val_accuracy: 0.9969 - lr: 1.0000e-05\n",
            "Epoch 41/100\n",
            "1055/1055 [==============================] - ETA: 0s - loss: 0.4802 - accuracy: 0.8240\n",
            "Epoch 00041: val_loss did not improve from 0.01101\n",
            "1055/1055 [==============================] - 86s 82ms/step - loss: 0.4802 - accuracy: 0.8240 - val_loss: 0.0111 - val_accuracy: 0.9969 - lr: 1.0000e-06\n",
            "Epoch 42/100\n",
            "1055/1055 [==============================] - ETA: 0s - loss: 0.4817 - accuracy: 0.8226\n",
            "Epoch 00042: val_loss did not improve from 0.01101\n",
            "1055/1055 [==============================] - 86s 81ms/step - loss: 0.4817 - accuracy: 0.8226 - val_loss: 0.0111 - val_accuracy: 0.9969 - lr: 1.0000e-06\n",
            "Epoch 43/100\n",
            "1055/1055 [==============================] - ETA: 0s - loss: 0.4822 - accuracy: 0.8231\n",
            "Epoch 00043: val_loss did not improve from 0.01101\n",
            "1055/1055 [==============================] - 86s 81ms/step - loss: 0.4822 - accuracy: 0.8231 - val_loss: 0.0111 - val_accuracy: 0.9969 - lr: 1.0000e-06\n",
            "Epoch 00043: early stopping\n"
          ]
        }
      ]
    },
    {
      "cell_type": "markdown",
      "metadata": {
        "id": "oksYdmeDnq30"
      },
      "source": [
        "# XXXXXXXX"
      ]
    },
    {
      "cell_type": "code",
      "metadata": {
        "id": "gNPuy22_WqqI",
        "colab": {
          "base_uri": "https://localhost:8080/"
        },
        "outputId": "6d205ff6-7a91-40dd-82a4-58b68d16b858"
      },
      "source": [
        "evaluate_result = model.evaluate_generator(validation_data_gen)\n",
        "print('Validation Loss:' + str(evaluate_result[0]))\n",
        "print('Validation Accuracy:' + str(evaluate_result[1]))"
      ],
      "execution_count": 15,
      "outputs": [
        {
          "output_type": "stream",
          "name": "stderr",
          "text": [
            "/usr/local/lib/python3.7/dist-packages/ipykernel_launcher.py:1: UserWarning: `Model.evaluate_generator` is deprecated and will be removed in a future version. Please use `Model.evaluate`, which supports generators.\n",
            "  \"\"\"Entry point for launching an IPython kernel.\n"
          ]
        },
        {
          "output_type": "stream",
          "name": "stdout",
          "text": [
            "Validation Loss:0.011064750142395496\n",
            "Validation Accuracy:0.9968888759613037\n"
          ]
        }
      ]
    },
    {
      "cell_type": "code",
      "metadata": {
        "id": "V-A5oXKWm-8Q",
        "colab": {
          "base_uri": "https://localhost:8080/",
          "height": 344
        },
        "outputId": "c3db07d8-a506-42a2-d1e9-691021088f6a"
      },
      "source": [
        "import matplotlib.pyplot as plt\n",
        "\n",
        "def plot_history(history):\n",
        "    plt.figure(figsize=(19, 6))\n",
        "\n",
        "    # 精度の履歴をプロット\n",
        "    plt.subplot(1, 2, 1)\n",
        "    plt.title('accuracy')\n",
        "    plt.plot(history.history['accuracy'],\"-\",label=\"accuracy\")\n",
        "    plt.plot(history.history['val_accuracy'],\"-\",label=\"val_accuracy\")\n",
        "    plt.xlabel('epoch')\n",
        "    plt.ylabel('accuracy')\n",
        "    plt.legend(loc=\"lower right\")\n",
        " \n",
        "    # 損失の履歴をプロット\n",
        "    plt.subplot(1, 2, 2)\n",
        "    plt.title('loss')\n",
        "    plt.plot(history.history['loss'],\"-\",label=\"loss\",)\n",
        "    plt.plot(history.history['val_loss'],\"-\",label=\"val_loss\")\n",
        "    plt.xlabel('epoch')\n",
        "    plt.ylabel('loss')\n",
        "    plt.legend(loc='upper right')\n",
        "    plt.show()\n",
        "    \n",
        "plot_history(history)"
      ],
      "execution_count": 16,
      "outputs": [
        {
          "output_type": "display_data",
          "data": {
            "image/png": "[encoded data removed]",
            "text/plain": [
              "<Figure size 1368x432 with 2 Axes>"
            ]
          },
          "metadata": {
            "needs_background": "light"
          }
        }
      ]
    },
    {
      "cell_type": "code",
      "metadata": {
        "id": "vkPqhci35vEm",
        "colab": {
          "base_uri": "https://localhost:8080/",
          "height": 683
        },
        "outputId": "9227822f-5ade-40b4-9de0-73fef4b600a1"
      },
      "source": [
        "import math\n",
        "import cv2 as cv\n",
        "import numpy as np\n",
        "\n",
        "def draw_images(images):\n",
        "    column = 6\n",
        "    row = math.ceil(len(images) / column)\n",
        "\n",
        "    plt.figure(figsize=(16, 11))\n",
        "    plt.subplots_adjust(wspace=0.4, hspace=0.6)\n",
        "\n",
        "    for i, image in enumerate(images):\n",
        "        debug_image = cv.imread(image[1])\n",
        "        \n",
        "        plt.subplot(row, column, i+1)\n",
        "        plt.title(str(image[0]), fontsize=10) \n",
        "        plt.tick_params(color='white')\n",
        "        plt.tick_params(labelbottom=False, labelleft=False, labelright=False, labeltop=False)\n",
        "        plt.imshow(cv.cvtColor(debug_image, cv.COLOR_BGR2RGB))\n",
        "        plt.xlabel('', fontsize=15)\n",
        "        plt.ylabel('', rotation=0, fontsize=15, labelpad=20)\n",
        "\n",
        "    plt.show()\n",
        "\n",
        "Y_pred = model.predict_generator(validation_data_gen)\n",
        "y_pred = np.argmax(Y_pred, axis=1)\n",
        "\n",
        "incorrect_numbers = []\n",
        "for true_num, pred_num, filepath in zip(validation_data_gen.classes, y_pred, validation_data_gen.filepaths):\n",
        "    if true_num != pred_num:\n",
        "        if pred_num == 10:\n",
        "            incorrect_numbers.append(['-(10)', filepath])\n",
        "        elif pred_num == 11:\n",
        "            incorrect_numbers.append(['N(11)', filepath])\n",
        "        else:\n",
        "            incorrect_numbers.append([pred_num, filepath])\n",
        "\n",
        "draw_images(incorrect_numbers)"
      ],
      "execution_count": 17,
      "outputs": [
        {
          "output_type": "stream",
          "name": "stderr",
          "text": [
            "/usr/local/lib/python3.7/dist-packages/ipykernel_launcher.py:25: UserWarning: `Model.predict_generator` is deprecated and will be removed in a future version. Please use `Model.predict`, which supports generators.\n"
          ]
        },
        {
          "output_type": "display_data",
          "data": {
            "image/png": "[encoded data removed]",
            "text/plain": [
              "<Figure size 1152x792 with 70 Axes>"
            ]
          },
          "metadata": {}
        }
      ]
    },
    {
      "cell_type": "markdown",
      "metadata": {
        "id": "nobuI67-nNIa"
      },
      "source": [
        "# XXXXXXXX"
      ]
    },
    {
      "cell_type": "code",
      "metadata": {
        "id": "0WJrVLWjfwlD"
      },
      "source": [
        "model_path = 'checkpoints/weights.hdf5'\n",
        "load_model = tf.keras.models.load_model(model_path)"
      ],
      "execution_count": 18,
      "outputs": []
    },
    {
      "cell_type": "code",
      "metadata": {
        "id": "7-7-0FsWfzcb",
        "colab": {
          "base_uri": "https://localhost:8080/",
          "height": 113
        },
        "outputId": "661d781d-a456-4b4f-b58d-20dfe9667efd"
      },
      "source": [
        "from IPython.display import Image, display_png\n",
        "from tensorflow.keras.preprocessing.image import img_to_array, load_img\n",
        "\n",
        "test_image = tf.keras.preprocessing.image.load_img('./validation/07/00007004.jpg', target_size=(96, 96))\n",
        "\n",
        "display_png(test_image)"
      ],
      "execution_count": 19,
      "outputs": [
        {
          "output_type": "display_data",
          "data": {
            "image/png": "[encoded data removed]"
          },
          "metadata": {}
        }
      ]
    },
    {
      "cell_type": "code",
      "metadata": {
        "id": "626vf3v-f9ip"
      },
      "source": [
        "test_image = img_to_array(test_image)\n",
        "test_image = test_image.reshape(-1, 96, 96, 3)\n",
        "test_image = test_image.astype('float32')\n",
        "test_image = test_image * 1.0/255"
      ],
      "execution_count": 20,
      "outputs": []
    },
    {
      "cell_type": "code",
      "metadata": {
        "id": "HzWRiagzgErP",
        "colab": {
          "base_uri": "https://localhost:8080/"
        },
        "outputId": "532bb715-bd2b-494e-8c82-6684674c0ac0"
      },
      "source": [
        "predict_result = load_model.predict(test_image)"
      ],
      "execution_count": 30,
      "outputs": [
        {
          "output_type": "stream",
          "name": "stdout",
          "text": [
            "10 loops, best of 5: 37.1 ms per loop\n"
          ]
        }
      ]
    },
    {
      "cell_type": "code",
      "metadata": {
        "id": "BKPp53MGgHbB",
        "colab": {
          "base_uri": "https://localhost:8080/"
        },
        "outputId": "f6171909-f5ac-4361-c091-b49187403cb5"
      },
      "source": [
        "print(np.squeeze(predict_result))\n",
        "print(np.argmax(np.squeeze(predict_result)))"
      ],
      "execution_count": 22,
      "outputs": [
        {
          "output_type": "stream",
          "name": "stdout",
          "text": [
            "[2.2122640e-06 6.4582217e-08 4.0999529e-07 7.6501377e-10 1.3395091e-07\n",
            " 1.1328411e-06 2.9578780e-08 9.9999595e-01 2.8156240e-09 2.3762277e-08\n",
            " 1.2261952e-08 6.3104553e-09]\n",
            "7\n"
          ]
        }
      ]
    },
    {
      "cell_type": "markdown",
      "metadata": {
        "id": "CoKU33ndduuK"
      },
      "source": [
        "# XXXXXXXX"
      ]
    },
    {
      "cell_type": "code",
      "metadata": {
        "id": "UhC5NGAsfKNA",
        "colab": {
          "base_uri": "https://localhost:8080/"
        },
        "outputId": "28c86637-b962-45c5-f509-60a8aa78bf00"
      },
      "source": [
        "load_model.save('7seg_classifier.hdf5', include_optimizer=False)"
      ],
      "execution_count": 23,
      "outputs": [
        {
          "output_type": "stream",
          "name": "stderr",
          "text": [
            "/usr/local/lib/python3.7/dist-packages/keras/engine/functional.py:1410: CustomMaskWarning: Custom mask layers require a config and must override get_config. When loading, the custom mask layer must be passed to the custom_objects argument.\n",
            "  layer_config = serialize_layer_fn(layer)\n"
          ]
        }
      ]
    },
    {
      "cell_type": "code",
      "metadata": {
        "id": "9dMZ3BSAfL0G",
        "colab": {
          "base_uri": "https://localhost:8080/"
        },
        "outputId": "35a7add5-0ec9-4f98-9ba7-9612b54be62b"
      },
      "source": [
        "converter = tf.lite.TFLiteConverter.from_keras_model(model)\n",
        "converter.optimizations = [tf.lite.Optimize.DEFAULT]\n",
        "tflite_quantized_model = converter.convert()\n",
        "\n",
        "open('7seg_classifier.tflite', 'wb').write(tflite_quantized_model)"
      ],
      "execution_count": 24,
      "outputs": [
        {
          "output_type": "stream",
          "name": "stdout",
          "text": [
            "INFO:tensorflow:Assets written to: /tmp/tmpl9niaoo4/assets\n"
          ]
        },
        {
          "output_type": "stream",
          "name": "stderr",
          "text": [
            "WARNING:absl:Buffer deduplication procedure will be skipped when flatbuffer library is not properly loaded\n"
          ]
        },
        {
          "output_type": "execute_result",
          "data": {
            "text/plain": [
              "609904"
            ]
          },
          "metadata": {},
          "execution_count": 24
        }
      ]
    },
    {
      "cell_type": "markdown",
      "metadata": {
        "id": "655A6qhXLenW"
      },
      "source": [
        "# XXXXXXXX"
      ]
    },
    {
      "cell_type": "code",
      "metadata": {
        "id": "4t0id7YgfQ5b"
      },
      "source": [
        "interpreter = tf.lite.Interpreter(model_path=\"7seg_classifier.tflite\")\n",
        "interpreter.allocate_tensors()"
      ],
      "execution_count": 25,
      "outputs": []
    },
    {
      "cell_type": "code",
      "metadata": {
        "id": "I5zdSj-nfSdn",
        "colab": {
          "base_uri": "https://localhost:8080/"
        },
        "outputId": "539d5f85-bccc-458c-8bfd-7f75c7887a32"
      },
      "source": [
        "input_details = interpreter.get_input_details()\n",
        "output_details = interpreter.get_output_details()\n",
        "print(input_details)\n",
        "print(output_details)"
      ],
      "execution_count": 26,
      "outputs": [
        {
          "output_type": "stream",
          "name": "stdout",
          "text": [
            "[{'name': 'serving_default_input_1:0', 'index': 0, 'shape': array([ 1, 96, 96,  3], dtype=int32), 'shape_signature': array([-1, 96, 96,  3], dtype=int32), 'dtype': <class 'numpy.float32'>, 'quantization': (0.0, 0), 'quantization_parameters': {'scales': array([], dtype=float32), 'zero_points': array([], dtype=int32), 'quantized_dimension': 0}, 'sparsity_parameters': {}}]\n",
            "[{'name': 'StatefulPartitionedCall:0', 'index': 177, 'shape': array([ 1, 12], dtype=int32), 'shape_signature': array([-1, 12], dtype=int32), 'dtype': <class 'numpy.float32'>, 'quantization': (0.0, 0), 'quantization_parameters': {'scales': array([], dtype=float32), 'zero_points': array([], dtype=int32), 'quantized_dimension': 0}, 'sparsity_parameters': {}}]\n"
          ]
        }
      ]
    },
    {
      "cell_type": "code",
      "metadata": {
        "id": "diQuS7EZfUjZ",
        "colab": {
          "base_uri": "https://localhost:8080/"
        },
        "outputId": "45c9253a-bef9-44b6-a080-229bdeb87e4f"
      },
      "source": [
        "interpreter.set_tensor(input_details[0]['index'], test_image)\n",
        "interpreter.invoke()"
      ],
      "execution_count": 31,
      "outputs": [
        {
          "output_type": "stream",
          "name": "stdout",
          "text": [
            "100 loops, best of 5: 18.6 ms per loop\n"
          ]
        }
      ]
    },
    {
      "cell_type": "code",
      "metadata": {
        "id": "09prFVlpfXBj"
      },
      "source": [
        "tflite_results = interpreter.get_tensor(output_details[0]['index'])"
      ],
      "execution_count": 28,
      "outputs": []
    },
    {
      "cell_type": "code",
      "metadata": {
        "id": "fy1t99p9fayG",
        "colab": {
          "base_uri": "https://localhost:8080/"
        },
        "outputId": "f5c59f9e-d2c5-45cc-f1cd-853df52e9d52"
      },
      "source": [
        "print(np.squeeze(tflite_results))\n",
        "print(np.argmax(np.squeeze(tflite_results)))"
      ],
      "execution_count": 29,
      "outputs": [
        {
          "output_type": "stream",
          "name": "stdout",
          "text": [
            "[2.3053269e-06 5.3328641e-08 4.0264879e-07 8.3536766e-10 1.3598803e-07\n",
            " 1.3750700e-06 3.1720809e-08 9.9999571e-01 2.5853140e-09 2.5920599e-08\n",
            " 9.1866488e-09 5.2289262e-09]\n",
            "7\n"
          ]
        }
      ]
    }
  ]
}